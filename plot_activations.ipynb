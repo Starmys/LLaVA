{
 "cells": [
  {
   "cell_type": "code",
   "execution_count": 1,
   "metadata": {},
   "outputs": [],
   "source": [
    "import os\n",
    "import torch\n",
    "import numpy as np\n",
    "import matplotlib.pyplot as plt"
   ]
  },
  {
   "cell_type": "code",
   "execution_count": 2,
   "metadata": {},
   "outputs": [],
   "source": [
    "act_folder = '/home/chengzhang/Multimodal-Quantization/evaluation/activations/llava-7b'\n",
    "img_folder = '/home/chengzhang/Multimodal-Quantization/LLaVA/snapshot/img/activations'"
   ]
  },
  {
   "cell_type": "code",
   "execution_count": 3,
   "metadata": {},
   "outputs": [],
   "source": [
    "sample_tokens = 4096\n",
    "\n",
    "def load_channel(\n",
    "    path: str,\n",
    "    comp: str,\n",
    "    channel: int,\n",
    ") -> np.ndarray:\n",
    "    return torch.load(f'{path}/{comp}.pt')[:, channel].cpu().numpy()\n",
    "\n",
    "\n",
    "bits = 4\n",
    "bins = 2 ** (bits - 1)\n",
    "ticks = np.square(np.arange(-1, 1, 1 / bins))\n",
    "ticks[:bins] *= -1\n",
    "ticks = ticks[1:]\n",
    "\n",
    "\n",
    "def plot_channel(ax: plt.Axes, x: np.ndarray, plot_ticks: bool = False, bins: int = 200):\n",
    "    scale = np.abs(x).max()\n",
    "    thres = scale * 0.99\n",
    "    quant_x = np.where(np.abs(x) < thres, x, 0.0)\n",
    "    quant_scale = np.abs(quant_x).max()\n",
    "    freqs, _, _ = ax.hist(x, bins=bins)\n",
    "    if plot_ticks:\n",
    "        for pos in ticks:\n",
    "            ax.plot([pos * quant_scale, pos * quant_scale], [0, max(freqs)], color='C1', linewidth=1)"
   ]
  },
  {
   "cell_type": "code",
   "execution_count": 4,
   "metadata": {},
   "outputs": [],
   "source": [
    "num_cols = 2\n",
    "\n",
    "def plot_all_comp(layer, channel):\n",
    "    suptitle = f'Activation Distribution: Layer #{layer}, Channel #{channel}'\n",
    "    print(suptitle)\n",
    "    plt.figure(figsize=(15, 16))\n",
    "\n",
    "    for i, comp in enumerate(['q-proj', 'o-proj', 'up-proj', 'down-proj']):\n",
    "        title = f'[L{layer}.{comp}] TextVQA Text Tokens'\n",
    "        ax = plt.subplot(4, num_cols, i * num_cols + 1)\n",
    "        x = load_channel(f'{act_folder}/textqa', f'{layer:0>2}-{comp}', channel)\n",
    "        plot_channel(ax, x)\n",
    "        ax.set_title(title)\n",
    "        print(title)\n",
    "        title = f'[L{layer}.{comp}] TextVQA Vision Tokens'\n",
    "        ax = plt.subplot(4, num_cols, i * num_cols + 2)\n",
    "        x = load_channel(f'{act_folder}/textv', f'{layer:0>2}-{comp}', channel)\n",
    "        plot_channel(ax, x)\n",
    "        ax.set_title(title)\n",
    "        print(title)\n",
    "\n",
    "    plt.suptitle(suptitle)\n",
    "    save_folder = os.path.join(img_folder, 'textvqa-text-vs-vision')\n",
    "    os.makedirs(save_folder, exist_ok=True)\n",
    "    plt.savefig(os.path.join(save_folder, f'{layer}.{channel}.png'))"
   ]
  },
  {
   "cell_type": "code",
   "execution_count": 5,
   "metadata": {},
   "outputs": [
    {
     "name": "stdout",
     "output_type": "stream",
     "text": [
      "Activation Distribution: Layer #0, Channel #31\n",
      "[L0.q-proj] TextVQA Text Tokens\n",
      "[L0.q-proj] TextVQA Vision Tokens\n",
      "[L0.o-proj] TextVQA Text Tokens\n",
      "[L0.o-proj] TextVQA Vision Tokens\n",
      "[L0.up-proj] TextVQA Text Tokens\n",
      "[L0.up-proj] TextVQA Vision Tokens\n",
      "[L0.down-proj] TextVQA Text Tokens\n",
      "[L0.down-proj] TextVQA Vision Tokens\n",
      "Activation Distribution: Layer #1, Channel #31\n",
      "[L1.q-proj] TextVQA Text Tokens\n",
      "[L1.q-proj] TextVQA Vision Tokens\n",
      "[L1.o-proj] TextVQA Text Tokens\n",
      "[L1.o-proj] TextVQA Vision Tokens\n",
      "[L1.up-proj] TextVQA Text Tokens\n",
      "[L1.up-proj] TextVQA Vision Tokens\n",
      "[L1.down-proj] TextVQA Text Tokens\n",
      "[L1.down-proj] TextVQA Vision Tokens\n",
      "Activation Distribution: Layer #2, Channel #31\n",
      "[L2.q-proj] TextVQA Text Tokens\n",
      "[L2.q-proj] TextVQA Vision Tokens\n",
      "[L2.o-proj] TextVQA Text Tokens\n",
      "[L2.o-proj] TextVQA Vision Tokens\n",
      "[L2.up-proj] TextVQA Text Tokens\n",
      "[L2.up-proj] TextVQA Vision Tokens\n",
      "[L2.down-proj] TextVQA Text Tokens\n",
      "[L2.down-proj] TextVQA Vision Tokens\n",
      "Activation Distribution: Layer #3, Channel #31\n",
      "[L3.q-proj] TextVQA Text Tokens\n",
      "[L3.q-proj] TextVQA Vision Tokens\n",
      "[L3.o-proj] TextVQA Text Tokens\n",
      "[L3.o-proj] TextVQA Vision Tokens\n",
      "[L3.up-proj] TextVQA Text Tokens\n",
      "[L3.up-proj] TextVQA Vision Tokens\n",
      "[L3.down-proj] TextVQA Text Tokens\n",
      "[L3.down-proj] TextVQA Vision Tokens\n",
      "Activation Distribution: Layer #4, Channel #31\n",
      "[L4.q-proj] TextVQA Text Tokens\n",
      "[L4.q-proj] TextVQA Vision Tokens\n",
      "[L4.o-proj] TextVQA Text Tokens\n",
      "[L4.o-proj] TextVQA Vision Tokens\n",
      "[L4.up-proj] TextVQA Text Tokens\n",
      "[L4.up-proj] TextVQA Vision Tokens\n",
      "[L4.down-proj] TextVQA Text Tokens\n",
      "[L4.down-proj] TextVQA Vision Tokens\n",
      "Activation Distribution: Layer #5, Channel #31\n",
      "[L5.q-proj] TextVQA Text Tokens\n",
      "[L5.q-proj] TextVQA Vision Tokens\n",
      "[L5.o-proj] TextVQA Text Tokens\n",
      "[L5.o-proj] TextVQA Vision Tokens\n",
      "[L5.up-proj] TextVQA Text Tokens\n",
      "[L5.up-proj] TextVQA Vision Tokens\n",
      "[L5.down-proj] TextVQA Text Tokens\n",
      "[L5.down-proj] TextVQA Vision Tokens\n",
      "Activation Distribution: Layer #6, Channel #31\n",
      "[L6.q-proj] TextVQA Text Tokens\n",
      "[L6.q-proj] TextVQA Vision Tokens\n",
      "[L6.o-proj] TextVQA Text Tokens\n",
      "[L6.o-proj] TextVQA Vision Tokens\n",
      "[L6.up-proj] TextVQA Text Tokens\n",
      "[L6.up-proj] TextVQA Vision Tokens\n",
      "[L6.down-proj] TextVQA Text Tokens\n",
      "[L6.down-proj] TextVQA Vision Tokens\n",
      "Activation Distribution: Layer #7, Channel #31\n",
      "[L7.q-proj] TextVQA Text Tokens\n",
      "[L7.q-proj] TextVQA Vision Tokens\n",
      "[L7.o-proj] TextVQA Text Tokens\n",
      "[L7.o-proj] TextVQA Vision Tokens\n",
      "[L7.up-proj] TextVQA Text Tokens\n",
      "[L7.up-proj] TextVQA Vision Tokens\n",
      "[L7.down-proj] TextVQA Text Tokens\n",
      "[L7.down-proj] TextVQA Vision Tokens\n",
      "Activation Distribution: Layer #8, Channel #31\n",
      "[L8.q-proj] TextVQA Text Tokens\n",
      "[L8.q-proj] TextVQA Vision Tokens\n",
      "[L8.o-proj] TextVQA Text Tokens\n",
      "[L8.o-proj] TextVQA Vision Tokens\n",
      "[L8.up-proj] TextVQA Text Tokens\n",
      "[L8.up-proj] TextVQA Vision Tokens\n",
      "[L8.down-proj] TextVQA Text Tokens\n",
      "[L8.down-proj] TextVQA Vision Tokens\n",
      "Activation Distribution: Layer #9, Channel #31\n",
      "[L9.q-proj] TextVQA Text Tokens\n",
      "[L9.q-proj] TextVQA Vision Tokens\n",
      "[L9.o-proj] TextVQA Text Tokens\n",
      "[L9.o-proj] TextVQA Vision Tokens\n",
      "[L9.up-proj] TextVQA Text Tokens\n",
      "[L9.up-proj] TextVQA Vision Tokens\n",
      "[L9.down-proj] TextVQA Text Tokens\n",
      "[L9.down-proj] TextVQA Vision Tokens\n",
      "Activation Distribution: Layer #10, Channel #31\n",
      "[L10.q-proj] TextVQA Text Tokens\n",
      "[L10.q-proj] TextVQA Vision Tokens\n",
      "[L10.o-proj] TextVQA Text Tokens\n",
      "[L10.o-proj] TextVQA Vision Tokens\n",
      "[L10.up-proj] TextVQA Text Tokens\n",
      "[L10.up-proj] TextVQA Vision Tokens\n",
      "[L10.down-proj] TextVQA Text Tokens\n",
      "[L10.down-proj] TextVQA Vision Tokens\n",
      "Activation Distribution: Layer #11, Channel #31\n",
      "[L11.q-proj] TextVQA Text Tokens\n",
      "[L11.q-proj] TextVQA Vision Tokens\n",
      "[L11.o-proj] TextVQA Text Tokens\n",
      "[L11.o-proj] TextVQA Vision Tokens\n",
      "[L11.up-proj] TextVQA Text Tokens\n",
      "[L11.up-proj] TextVQA Vision Tokens\n",
      "[L11.down-proj] TextVQA Text Tokens\n",
      "[L11.down-proj] TextVQA Vision Tokens\n",
      "Activation Distribution: Layer #12, Channel #31\n",
      "[L12.q-proj] TextVQA Text Tokens\n",
      "[L12.q-proj] TextVQA Vision Tokens\n",
      "[L12.o-proj] TextVQA Text Tokens\n",
      "[L12.o-proj] TextVQA Vision Tokens\n",
      "[L12.up-proj] TextVQA Text Tokens\n",
      "[L12.up-proj] TextVQA Vision Tokens\n",
      "[L12.down-proj] TextVQA Text Tokens\n",
      "[L12.down-proj] TextVQA Vision Tokens\n",
      "Activation Distribution: Layer #13, Channel #31\n",
      "[L13.q-proj] TextVQA Text Tokens\n",
      "[L13.q-proj] TextVQA Vision Tokens\n",
      "[L13.o-proj] TextVQA Text Tokens\n",
      "[L13.o-proj] TextVQA Vision Tokens\n",
      "[L13.up-proj] TextVQA Text Tokens\n",
      "[L13.up-proj] TextVQA Vision Tokens\n",
      "[L13.down-proj] TextVQA Text Tokens\n",
      "[L13.down-proj] TextVQA Vision Tokens\n",
      "Activation Distribution: Layer #14, Channel #31\n",
      "[L14.q-proj] TextVQA Text Tokens\n",
      "[L14.q-proj] TextVQA Vision Tokens\n",
      "[L14.o-proj] TextVQA Text Tokens\n",
      "[L14.o-proj] TextVQA Vision Tokens\n",
      "[L14.up-proj] TextVQA Text Tokens\n",
      "[L14.up-proj] TextVQA Vision Tokens\n",
      "[L14.down-proj] TextVQA Text Tokens\n",
      "[L14.down-proj] TextVQA Vision Tokens\n",
      "Activation Distribution: Layer #15, Channel #31\n",
      "[L15.q-proj] TextVQA Text Tokens\n",
      "[L15.q-proj] TextVQA Vision Tokens\n",
      "[L15.o-proj] TextVQA Text Tokens\n",
      "[L15.o-proj] TextVQA Vision Tokens\n",
      "[L15.up-proj] TextVQA Text Tokens\n",
      "[L15.up-proj] TextVQA Vision Tokens\n",
      "[L15.down-proj] TextVQA Text Tokens\n",
      "[L15.down-proj] TextVQA Vision Tokens\n",
      "Activation Distribution: Layer #16, Channel #31\n",
      "[L16.q-proj] TextVQA Text Tokens\n",
      "[L16.q-proj] TextVQA Vision Tokens\n",
      "[L16.o-proj] TextVQA Text Tokens\n",
      "[L16.o-proj] TextVQA Vision Tokens\n",
      "[L16.up-proj] TextVQA Text Tokens\n",
      "[L16.up-proj] TextVQA Vision Tokens\n",
      "[L16.down-proj] TextVQA Text Tokens\n",
      "[L16.down-proj] TextVQA Vision Tokens\n",
      "Activation Distribution: Layer #17, Channel #31\n",
      "[L17.q-proj] TextVQA Text Tokens\n",
      "[L17.q-proj] TextVQA Vision Tokens\n",
      "[L17.o-proj] TextVQA Text Tokens\n",
      "[L17.o-proj] TextVQA Vision Tokens\n",
      "[L17.up-proj] TextVQA Text Tokens\n",
      "[L17.up-proj] TextVQA Vision Tokens\n",
      "[L17.down-proj] TextVQA Text Tokens\n",
      "[L17.down-proj] TextVQA Vision Tokens\n",
      "Activation Distribution: Layer #18, Channel #31\n",
      "[L18.q-proj] TextVQA Text Tokens\n",
      "[L18.q-proj] TextVQA Vision Tokens\n",
      "[L18.o-proj] TextVQA Text Tokens\n",
      "[L18.o-proj] TextVQA Vision Tokens\n",
      "[L18.up-proj] TextVQA Text Tokens\n",
      "[L18.up-proj] TextVQA Vision Tokens\n",
      "[L18.down-proj] TextVQA Text Tokens\n",
      "[L18.down-proj] TextVQA Vision Tokens\n",
      "Activation Distribution: Layer #19, Channel #31\n",
      "[L19.q-proj] TextVQA Text Tokens\n",
      "[L19.q-proj] TextVQA Vision Tokens\n",
      "[L19.o-proj] TextVQA Text Tokens\n",
      "[L19.o-proj] TextVQA Vision Tokens\n",
      "[L19.up-proj] TextVQA Text Tokens\n",
      "[L19.up-proj] TextVQA Vision Tokens\n",
      "[L19.down-proj] TextVQA Text Tokens\n",
      "[L19.down-proj] TextVQA Vision Tokens\n",
      "Activation Distribution: Layer #20, Channel #31\n"
     ]
    },
    {
     "name": "stderr",
     "output_type": "stream",
     "text": [
      "/tmp/ipykernel_2613204/189213839.py:6: RuntimeWarning: More than 20 figures have been opened. Figures created through the pyplot interface (`matplotlib.pyplot.figure`) are retained until explicitly closed and may consume too much memory. (To control this warning, see the rcParam `figure.max_open_warning`). Consider using `matplotlib.pyplot.close()`.\n",
      "  plt.figure(figsize=(15, 16))\n"
     ]
    },
    {
     "name": "stdout",
     "output_type": "stream",
     "text": [
      "[L20.q-proj] TextVQA Text Tokens\n",
      "[L20.q-proj] TextVQA Vision Tokens\n",
      "[L20.o-proj] TextVQA Text Tokens\n",
      "[L20.o-proj] TextVQA Vision Tokens\n",
      "[L20.up-proj] TextVQA Text Tokens\n",
      "[L20.up-proj] TextVQA Vision Tokens\n",
      "[L20.down-proj] TextVQA Text Tokens\n",
      "[L20.down-proj] TextVQA Vision Tokens\n",
      "Activation Distribution: Layer #21, Channel #31\n",
      "[L21.q-proj] TextVQA Text Tokens\n",
      "[L21.q-proj] TextVQA Vision Tokens\n",
      "[L21.o-proj] TextVQA Text Tokens\n",
      "[L21.o-proj] TextVQA Vision Tokens\n",
      "[L21.up-proj] TextVQA Text Tokens\n",
      "[L21.up-proj] TextVQA Vision Tokens\n",
      "[L21.down-proj] TextVQA Text Tokens\n",
      "[L21.down-proj] TextVQA Vision Tokens\n",
      "Activation Distribution: Layer #22, Channel #31\n",
      "[L22.q-proj] TextVQA Text Tokens\n",
      "[L22.q-proj] TextVQA Vision Tokens\n",
      "[L22.o-proj] TextVQA Text Tokens\n",
      "[L22.o-proj] TextVQA Vision Tokens\n",
      "[L22.up-proj] TextVQA Text Tokens\n",
      "[L22.up-proj] TextVQA Vision Tokens\n",
      "[L22.down-proj] TextVQA Text Tokens\n",
      "[L22.down-proj] TextVQA Vision Tokens\n",
      "Activation Distribution: Layer #23, Channel #31\n",
      "[L23.q-proj] TextVQA Text Tokens\n",
      "[L23.q-proj] TextVQA Vision Tokens\n",
      "[L23.o-proj] TextVQA Text Tokens\n",
      "[L23.o-proj] TextVQA Vision Tokens\n",
      "[L23.up-proj] TextVQA Text Tokens\n",
      "[L23.up-proj] TextVQA Vision Tokens\n",
      "[L23.down-proj] TextVQA Text Tokens\n",
      "[L23.down-proj] TextVQA Vision Tokens\n",
      "Activation Distribution: Layer #24, Channel #31\n",
      "[L24.q-proj] TextVQA Text Tokens\n",
      "[L24.q-proj] TextVQA Vision Tokens\n",
      "[L24.o-proj] TextVQA Text Tokens\n",
      "[L24.o-proj] TextVQA Vision Tokens\n",
      "[L24.up-proj] TextVQA Text Tokens\n",
      "[L24.up-proj] TextVQA Vision Tokens\n",
      "[L24.down-proj] TextVQA Text Tokens\n",
      "[L24.down-proj] TextVQA Vision Tokens\n",
      "Activation Distribution: Layer #25, Channel #31\n",
      "[L25.q-proj] TextVQA Text Tokens\n",
      "[L25.q-proj] TextVQA Vision Tokens\n",
      "[L25.o-proj] TextVQA Text Tokens\n",
      "[L25.o-proj] TextVQA Vision Tokens\n",
      "[L25.up-proj] TextVQA Text Tokens\n",
      "[L25.up-proj] TextVQA Vision Tokens\n",
      "[L25.down-proj] TextVQA Text Tokens\n",
      "[L25.down-proj] TextVQA Vision Tokens\n",
      "Activation Distribution: Layer #26, Channel #31\n",
      "[L26.q-proj] TextVQA Text Tokens\n",
      "[L26.q-proj] TextVQA Vision Tokens\n",
      "[L26.o-proj] TextVQA Text Tokens\n",
      "[L26.o-proj] TextVQA Vision Tokens\n",
      "[L26.up-proj] TextVQA Text Tokens\n",
      "[L26.up-proj] TextVQA Vision Tokens\n",
      "[L26.down-proj] TextVQA Text Tokens\n",
      "[L26.down-proj] TextVQA Vision Tokens\n",
      "Activation Distribution: Layer #27, Channel #31\n",
      "[L27.q-proj] TextVQA Text Tokens\n",
      "[L27.q-proj] TextVQA Vision Tokens\n",
      "[L27.o-proj] TextVQA Text Tokens\n",
      "[L27.o-proj] TextVQA Vision Tokens\n",
      "[L27.up-proj] TextVQA Text Tokens\n",
      "[L27.up-proj] TextVQA Vision Tokens\n",
      "[L27.down-proj] TextVQA Text Tokens\n",
      "[L27.down-proj] TextVQA Vision Tokens\n",
      "Activation Distribution: Layer #28, Channel #31\n",
      "[L28.q-proj] TextVQA Text Tokens\n",
      "[L28.q-proj] TextVQA Vision Tokens\n",
      "[L28.o-proj] TextVQA Text Tokens\n",
      "[L28.o-proj] TextVQA Vision Tokens\n",
      "[L28.up-proj] TextVQA Text Tokens\n",
      "[L28.up-proj] TextVQA Vision Tokens\n",
      "[L28.down-proj] TextVQA Text Tokens\n",
      "[L28.down-proj] TextVQA Vision Tokens\n",
      "Activation Distribution: Layer #29, Channel #31\n",
      "[L29.q-proj] TextVQA Text Tokens\n",
      "[L29.q-proj] TextVQA Vision Tokens\n",
      "[L29.o-proj] TextVQA Text Tokens\n",
      "[L29.o-proj] TextVQA Vision Tokens\n",
      "[L29.up-proj] TextVQA Text Tokens\n",
      "[L29.up-proj] TextVQA Vision Tokens\n",
      "[L29.down-proj] TextVQA Text Tokens\n",
      "[L29.down-proj] TextVQA Vision Tokens\n",
      "Activation Distribution: Layer #30, Channel #31\n",
      "[L30.q-proj] TextVQA Text Tokens\n",
      "[L30.q-proj] TextVQA Vision Tokens\n",
      "[L30.o-proj] TextVQA Text Tokens\n",
      "[L30.o-proj] TextVQA Vision Tokens\n",
      "[L30.up-proj] TextVQA Text Tokens\n",
      "[L30.up-proj] TextVQA Vision Tokens\n",
      "[L30.down-proj] TextVQA Text Tokens\n",
      "[L30.down-proj] TextVQA Vision Tokens\n",
      "Activation Distribution: Layer #31, Channel #31\n",
      "[L31.q-proj] TextVQA Text Tokens\n",
      "[L31.q-proj] TextVQA Vision Tokens\n",
      "[L31.o-proj] TextVQA Text Tokens\n",
      "[L31.o-proj] TextVQA Vision Tokens\n",
      "[L31.up-proj] TextVQA Text Tokens\n",
      "[L31.up-proj] TextVQA Vision Tokens\n",
      "[L31.down-proj] TextVQA Text Tokens\n",
      "[L31.down-proj] TextVQA Vision Tokens\n"
     ]
    },
    {
     "data": {
      "text/plain": [
       "<Figure size 1500x1600 with 0 Axes>"
      ]
     },
     "metadata": {},
     "output_type": "display_data"
    },
    {
     "data": {
      "text/plain": [
       "<Figure size 1500x1600 with 0 Axes>"
      ]
     },
     "metadata": {},
     "output_type": "display_data"
    },
    {
     "data": {
      "text/plain": [
       "<Figure size 1500x1600 with 0 Axes>"
      ]
     },
     "metadata": {},
     "output_type": "display_data"
    },
    {
     "data": {
      "text/plain": [
       "<Figure size 1500x1600 with 0 Axes>"
      ]
     },
     "metadata": {},
     "output_type": "display_data"
    },
    {
     "data": {
      "text/plain": [
       "<Figure size 1500x1600 with 0 Axes>"
      ]
     },
     "metadata": {},
     "output_type": "display_data"
    },
    {
     "data": {
      "text/plain": [
       "<Figure size 1500x1600 with 0 Axes>"
      ]
     },
     "metadata": {},
     "output_type": "display_data"
    },
    {
     "data": {
      "text/plain": [
       "<Figure size 1500x1600 with 0 Axes>"
      ]
     },
     "metadata": {},
     "output_type": "display_data"
    },
    {
     "data": {
      "text/plain": [
       "<Figure size 1500x1600 with 0 Axes>"
      ]
     },
     "metadata": {},
     "output_type": "display_data"
    },
    {
     "data": {
      "text/plain": [
       "<Figure size 1500x1600 with 0 Axes>"
      ]
     },
     "metadata": {},
     "output_type": "display_data"
    },
    {
     "data": {
      "text/plain": [
       "<Figure size 1500x1600 with 0 Axes>"
      ]
     },
     "metadata": {},
     "output_type": "display_data"
    },
    {
     "data": {
      "text/plain": [
       "<Figure size 1500x1600 with 0 Axes>"
      ]
     },
     "metadata": {},
     "output_type": "display_data"
    },
    {
     "data": {
      "text/plain": [
       "<Figure size 1500x1600 with 0 Axes>"
      ]
     },
     "metadata": {},
     "output_type": "display_data"
    },
    {
     "data": {
      "text/plain": [
       "<Figure size 1500x1600 with 0 Axes>"
      ]
     },
     "metadata": {},
     "output_type": "display_data"
    },
    {
     "data": {
      "text/plain": [
       "<Figure size 1500x1600 with 0 Axes>"
      ]
     },
     "metadata": {},
     "output_type": "display_data"
    },
    {
     "data": {
      "text/plain": [
       "<Figure size 1500x1600 with 0 Axes>"
      ]
     },
     "metadata": {},
     "output_type": "display_data"
    },
    {
     "data": {
      "text/plain": [
       "<Figure size 1500x1600 with 0 Axes>"
      ]
     },
     "metadata": {},
     "output_type": "display_data"
    },
    {
     "data": {
      "text/plain": [
       "<Figure size 1500x1600 with 0 Axes>"
      ]
     },
     "metadata": {},
     "output_type": "display_data"
    },
    {
     "data": {
      "text/plain": [
       "<Figure size 1500x1600 with 0 Axes>"
      ]
     },
     "metadata": {},
     "output_type": "display_data"
    },
    {
     "data": {
      "text/plain": [
       "<Figure size 1500x1600 with 0 Axes>"
      ]
     },
     "metadata": {},
     "output_type": "display_data"
    },
    {
     "data": {
      "text/plain": [
       "<Figure size 1500x1600 with 0 Axes>"
      ]
     },
     "metadata": {},
     "output_type": "display_data"
    },
    {
     "data": {
      "text/plain": [
       "<Figure size 1500x1600 with 0 Axes>"
      ]
     },
     "metadata": {},
     "output_type": "display_data"
    },
    {
     "data": {
      "text/plain": [
       "<Figure size 1500x1600 with 0 Axes>"
      ]
     },
     "metadata": {},
     "output_type": "display_data"
    },
    {
     "data": {
      "text/plain": [
       "<Figure size 1500x1600 with 0 Axes>"
      ]
     },
     "metadata": {},
     "output_type": "display_data"
    },
    {
     "data": {
      "text/plain": [
       "<Figure size 1500x1600 with 0 Axes>"
      ]
     },
     "metadata": {},
     "output_type": "display_data"
    },
    {
     "data": {
      "text/plain": [
       "<Figure size 1500x1600 with 0 Axes>"
      ]
     },
     "metadata": {},
     "output_type": "display_data"
    },
    {
     "data": {
      "text/plain": [
       "<Figure size 1500x1600 with 0 Axes>"
      ]
     },
     "metadata": {},
     "output_type": "display_data"
    },
    {
     "data": {
      "text/plain": [
       "<Figure size 1500x1600 with 0 Axes>"
      ]
     },
     "metadata": {},
     "output_type": "display_data"
    },
    {
     "data": {
      "text/plain": [
       "<Figure size 1500x1600 with 0 Axes>"
      ]
     },
     "metadata": {},
     "output_type": "display_data"
    },
    {
     "data": {
      "text/plain": [
       "<Figure size 1500x1600 with 0 Axes>"
      ]
     },
     "metadata": {},
     "output_type": "display_data"
    },
    {
     "data": {
      "text/plain": [
       "<Figure size 1500x1600 with 0 Axes>"
      ]
     },
     "metadata": {},
     "output_type": "display_data"
    },
    {
     "data": {
      "text/plain": [
       "<Figure size 1500x1600 with 0 Axes>"
      ]
     },
     "metadata": {},
     "output_type": "display_data"
    },
    {
     "data": {
      "text/plain": [
       "<Figure size 1500x1600 with 0 Axes>"
      ]
     },
     "metadata": {},
     "output_type": "display_data"
    }
   ],
   "source": [
    "for layer in range(32):\n",
    "    plot_all_comp(layer, channel=31)\n",
    "    plt.clf()"
   ]
  },
  {
   "cell_type": "code",
   "execution_count": 6,
   "metadata": {},
   "outputs": [],
   "source": [
    "num_cols = 3\n",
    "\n",
    "def plot_all_comp(layer, channel):\n",
    "    suptitle = f'Activation Distribution: Layer #{layer}, Channel #{channel}'\n",
    "    print(suptitle)\n",
    "    plt.figure(figsize=(15, 16))\n",
    "\n",
    "    for i, comp in enumerate(['q-proj', 'o-proj', 'up-proj', 'down-proj']):\n",
    "        title = f'[L{layer}.{comp}] Pure Text Inputs'\n",
    "        ax = plt.subplot(4, num_cols, i * num_cols + 1)\n",
    "        x = load_channel(f'{act_folder}/c4-sample', f'{layer:0>2}-{comp}', channel)\n",
    "        plot_channel(ax, x)\n",
    "        ax.set_title(title)\n",
    "        print(title)\n",
    "        title = f'[L{layer}.{comp}] Pure Vision Inputs'\n",
    "        ax = plt.subplot(4, num_cols, i * num_cols + 2)\n",
    "        x = load_channel(f'{act_folder}/coco-sample', f'{layer:0>2}-{comp}', channel)\n",
    "        plot_channel(ax, x)\n",
    "        ax.set_title(title)\n",
    "        print(title)\n",
    "        title = f'[L{layer}.{comp}] Text + Vision Inputs'\n",
    "        ax = plt.subplot(4, num_cols, i * num_cols + 3)\n",
    "        x = np.concatenate([\n",
    "            load_channel(f'{act_folder}/textqa', f'{layer:0>2}-{comp}', channel),\n",
    "            load_channel(f'{act_folder}/textv', f'{layer:0>2}-{comp}', channel),\n",
    "        ], axis=-1)\n",
    "        plot_channel(ax, x)\n",
    "        ax.set_title(title)\n",
    "        print(title)\n",
    "\n",
    "    plt.suptitle(suptitle)\n",
    "    save_folder = os.path.join(img_folder, 'text-vs-vision-vs-hybrid')\n",
    "    os.makedirs(save_folder, exist_ok=True)\n",
    "    plt.savefig(os.path.join(save_folder, f'{layer}.{channel}.png'))"
   ]
  },
  {
   "cell_type": "code",
   "execution_count": 7,
   "metadata": {},
   "outputs": [
    {
     "name": "stdout",
     "output_type": "stream",
     "text": [
      "Activation Distribution: Layer #0, Channel #31\n",
      "[L0.q-proj] Pure Text Inputs\n",
      "[L0.q-proj] Pure Vision Inputs\n"
     ]
    },
    {
     "name": "stdout",
     "output_type": "stream",
     "text": [
      "[L0.q-proj] Text + Vision Inputs\n",
      "[L0.o-proj] Pure Text Inputs\n",
      "[L0.o-proj] Pure Vision Inputs\n",
      "[L0.o-proj] Text + Vision Inputs\n",
      "[L0.up-proj] Pure Text Inputs\n",
      "[L0.up-proj] Pure Vision Inputs\n",
      "[L0.up-proj] Text + Vision Inputs\n",
      "[L0.down-proj] Pure Text Inputs\n",
      "[L0.down-proj] Pure Vision Inputs\n",
      "[L0.down-proj] Text + Vision Inputs\n",
      "Activation Distribution: Layer #1, Channel #31\n",
      "[L1.q-proj] Pure Text Inputs\n",
      "[L1.q-proj] Pure Vision Inputs\n",
      "[L1.q-proj] Text + Vision Inputs\n",
      "[L1.o-proj] Pure Text Inputs\n",
      "[L1.o-proj] Pure Vision Inputs\n",
      "[L1.o-proj] Text + Vision Inputs\n",
      "[L1.up-proj] Pure Text Inputs\n",
      "[L1.up-proj] Pure Vision Inputs\n",
      "[L1.up-proj] Text + Vision Inputs\n",
      "[L1.down-proj] Pure Text Inputs\n",
      "[L1.down-proj] Pure Vision Inputs\n",
      "[L1.down-proj] Text + Vision Inputs\n",
      "Activation Distribution: Layer #2, Channel #31\n",
      "[L2.q-proj] Pure Text Inputs\n",
      "[L2.q-proj] Pure Vision Inputs\n",
      "[L2.q-proj] Text + Vision Inputs\n",
      "[L2.o-proj] Pure Text Inputs\n",
      "[L2.o-proj] Pure Vision Inputs\n",
      "[L2.o-proj] Text + Vision Inputs\n",
      "[L2.up-proj] Pure Text Inputs\n",
      "[L2.up-proj] Pure Vision Inputs\n",
      "[L2.up-proj] Text + Vision Inputs\n",
      "[L2.down-proj] Pure Text Inputs\n",
      "[L2.down-proj] Pure Vision Inputs\n",
      "[L2.down-proj] Text + Vision Inputs\n",
      "Activation Distribution: Layer #3, Channel #31\n",
      "[L3.q-proj] Pure Text Inputs\n",
      "[L3.q-proj] Pure Vision Inputs\n",
      "[L3.q-proj] Text + Vision Inputs\n",
      "[L3.o-proj] Pure Text Inputs\n",
      "[L3.o-proj] Pure Vision Inputs\n",
      "[L3.o-proj] Text + Vision Inputs\n",
      "[L3.up-proj] Pure Text Inputs\n",
      "[L3.up-proj] Pure Vision Inputs\n",
      "[L3.up-proj] Text + Vision Inputs\n",
      "[L3.down-proj] Pure Text Inputs\n",
      "[L3.down-proj] Pure Vision Inputs\n",
      "[L3.down-proj] Text + Vision Inputs\n",
      "Activation Distribution: Layer #4, Channel #31\n",
      "[L4.q-proj] Pure Text Inputs\n",
      "[L4.q-proj] Pure Vision Inputs\n",
      "[L4.q-proj] Text + Vision Inputs\n",
      "[L4.o-proj] Pure Text Inputs\n",
      "[L4.o-proj] Pure Vision Inputs\n",
      "[L4.o-proj] Text + Vision Inputs\n",
      "[L4.up-proj] Pure Text Inputs\n",
      "[L4.up-proj] Pure Vision Inputs\n",
      "[L4.up-proj] Text + Vision Inputs\n",
      "[L4.down-proj] Pure Text Inputs\n",
      "[L4.down-proj] Pure Vision Inputs\n",
      "[L4.down-proj] Text + Vision Inputs\n",
      "Activation Distribution: Layer #5, Channel #31\n",
      "[L5.q-proj] Pure Text Inputs\n",
      "[L5.q-proj] Pure Vision Inputs\n",
      "[L5.q-proj] Text + Vision Inputs\n",
      "[L5.o-proj] Pure Text Inputs\n",
      "[L5.o-proj] Pure Vision Inputs\n",
      "[L5.o-proj] Text + Vision Inputs\n",
      "[L5.up-proj] Pure Text Inputs\n",
      "[L5.up-proj] Pure Vision Inputs\n",
      "[L5.up-proj] Text + Vision Inputs\n",
      "[L5.down-proj] Pure Text Inputs\n",
      "[L5.down-proj] Pure Vision Inputs\n",
      "[L5.down-proj] Text + Vision Inputs\n",
      "Activation Distribution: Layer #6, Channel #31\n",
      "[L6.q-proj] Pure Text Inputs\n",
      "[L6.q-proj] Pure Vision Inputs\n",
      "[L6.q-proj] Text + Vision Inputs\n",
      "[L6.o-proj] Pure Text Inputs\n",
      "[L6.o-proj] Pure Vision Inputs\n",
      "[L6.o-proj] Text + Vision Inputs\n",
      "[L6.up-proj] Pure Text Inputs\n",
      "[L6.up-proj] Pure Vision Inputs\n",
      "[L6.up-proj] Text + Vision Inputs\n",
      "[L6.down-proj] Pure Text Inputs\n",
      "[L6.down-proj] Pure Vision Inputs\n",
      "[L6.down-proj] Text + Vision Inputs\n",
      "Activation Distribution: Layer #7, Channel #31\n",
      "[L7.q-proj] Pure Text Inputs\n",
      "[L7.q-proj] Pure Vision Inputs\n",
      "[L7.q-proj] Text + Vision Inputs\n",
      "[L7.o-proj] Pure Text Inputs\n",
      "[L7.o-proj] Pure Vision Inputs\n",
      "[L7.o-proj] Text + Vision Inputs\n",
      "[L7.up-proj] Pure Text Inputs\n",
      "[L7.up-proj] Pure Vision Inputs\n",
      "[L7.up-proj] Text + Vision Inputs\n",
      "[L7.down-proj] Pure Text Inputs\n",
      "[L7.down-proj] Pure Vision Inputs\n",
      "[L7.down-proj] Text + Vision Inputs\n",
      "Activation Distribution: Layer #8, Channel #31\n",
      "[L8.q-proj] Pure Text Inputs\n",
      "[L8.q-proj] Pure Vision Inputs\n",
      "[L8.q-proj] Text + Vision Inputs\n",
      "[L8.o-proj] Pure Text Inputs\n",
      "[L8.o-proj] Pure Vision Inputs\n",
      "[L8.o-proj] Text + Vision Inputs\n",
      "[L8.up-proj] Pure Text Inputs\n",
      "[L8.up-proj] Pure Vision Inputs\n",
      "[L8.up-proj] Text + Vision Inputs\n",
      "[L8.down-proj] Pure Text Inputs\n",
      "[L8.down-proj] Pure Vision Inputs\n",
      "[L8.down-proj] Text + Vision Inputs\n",
      "Activation Distribution: Layer #9, Channel #31\n",
      "[L9.q-proj] Pure Text Inputs\n",
      "[L9.q-proj] Pure Vision Inputs\n",
      "[L9.q-proj] Text + Vision Inputs\n",
      "[L9.o-proj] Pure Text Inputs\n",
      "[L9.o-proj] Pure Vision Inputs\n",
      "[L9.o-proj] Text + Vision Inputs\n",
      "[L9.up-proj] Pure Text Inputs\n",
      "[L9.up-proj] Pure Vision Inputs\n",
      "[L9.up-proj] Text + Vision Inputs\n",
      "[L9.down-proj] Pure Text Inputs\n",
      "[L9.down-proj] Pure Vision Inputs\n",
      "[L9.down-proj] Text + Vision Inputs\n",
      "Activation Distribution: Layer #10, Channel #31\n",
      "[L10.q-proj] Pure Text Inputs\n",
      "[L10.q-proj] Pure Vision Inputs\n",
      "[L10.q-proj] Text + Vision Inputs\n",
      "[L10.o-proj] Pure Text Inputs\n",
      "[L10.o-proj] Pure Vision Inputs\n",
      "[L10.o-proj] Text + Vision Inputs\n",
      "[L10.up-proj] Pure Text Inputs\n",
      "[L10.up-proj] Pure Vision Inputs\n",
      "[L10.up-proj] Text + Vision Inputs\n",
      "[L10.down-proj] Pure Text Inputs\n",
      "[L10.down-proj] Pure Vision Inputs\n",
      "[L10.down-proj] Text + Vision Inputs\n",
      "Activation Distribution: Layer #11, Channel #31\n",
      "[L11.q-proj] Pure Text Inputs\n",
      "[L11.q-proj] Pure Vision Inputs\n",
      "[L11.q-proj] Text + Vision Inputs\n",
      "[L11.o-proj] Pure Text Inputs\n",
      "[L11.o-proj] Pure Vision Inputs\n",
      "[L11.o-proj] Text + Vision Inputs\n",
      "[L11.up-proj] Pure Text Inputs\n",
      "[L11.up-proj] Pure Vision Inputs\n",
      "[L11.up-proj] Text + Vision Inputs\n",
      "[L11.down-proj] Pure Text Inputs\n",
      "[L11.down-proj] Pure Vision Inputs\n",
      "[L11.down-proj] Text + Vision Inputs\n",
      "Activation Distribution: Layer #12, Channel #31\n",
      "[L12.q-proj] Pure Text Inputs\n",
      "[L12.q-proj] Pure Vision Inputs\n",
      "[L12.q-proj] Text + Vision Inputs\n",
      "[L12.o-proj] Pure Text Inputs\n",
      "[L12.o-proj] Pure Vision Inputs\n",
      "[L12.o-proj] Text + Vision Inputs\n",
      "[L12.up-proj] Pure Text Inputs\n",
      "[L12.up-proj] Pure Vision Inputs\n",
      "[L12.up-proj] Text + Vision Inputs\n",
      "[L12.down-proj] Pure Text Inputs\n",
      "[L12.down-proj] Pure Vision Inputs\n",
      "[L12.down-proj] Text + Vision Inputs\n",
      "Activation Distribution: Layer #13, Channel #31\n",
      "[L13.q-proj] Pure Text Inputs\n",
      "[L13.q-proj] Pure Vision Inputs\n",
      "[L13.q-proj] Text + Vision Inputs\n",
      "[L13.o-proj] Pure Text Inputs\n",
      "[L13.o-proj] Pure Vision Inputs\n",
      "[L13.o-proj] Text + Vision Inputs\n",
      "[L13.up-proj] Pure Text Inputs\n",
      "[L13.up-proj] Pure Vision Inputs\n",
      "[L13.up-proj] Text + Vision Inputs\n",
      "[L13.down-proj] Pure Text Inputs\n",
      "[L13.down-proj] Pure Vision Inputs\n",
      "[L13.down-proj] Text + Vision Inputs\n",
      "Activation Distribution: Layer #14, Channel #31\n",
      "[L14.q-proj] Pure Text Inputs\n",
      "[L14.q-proj] Pure Vision Inputs\n",
      "[L14.q-proj] Text + Vision Inputs\n",
      "[L14.o-proj] Pure Text Inputs\n",
      "[L14.o-proj] Pure Vision Inputs\n",
      "[L14.o-proj] Text + Vision Inputs\n",
      "[L14.up-proj] Pure Text Inputs\n",
      "[L14.up-proj] Pure Vision Inputs\n",
      "[L14.up-proj] Text + Vision Inputs\n",
      "[L14.down-proj] Pure Text Inputs\n",
      "[L14.down-proj] Pure Vision Inputs\n",
      "[L14.down-proj] Text + Vision Inputs\n",
      "Activation Distribution: Layer #15, Channel #31\n",
      "[L15.q-proj] Pure Text Inputs\n",
      "[L15.q-proj] Pure Vision Inputs\n",
      "[L15.q-proj] Text + Vision Inputs\n",
      "[L15.o-proj] Pure Text Inputs\n",
      "[L15.o-proj] Pure Vision Inputs\n",
      "[L15.o-proj] Text + Vision Inputs\n",
      "[L15.up-proj] Pure Text Inputs\n",
      "[L15.up-proj] Pure Vision Inputs\n",
      "[L15.up-proj] Text + Vision Inputs\n",
      "[L15.down-proj] Pure Text Inputs\n",
      "[L15.down-proj] Pure Vision Inputs\n",
      "[L15.down-proj] Text + Vision Inputs\n",
      "Activation Distribution: Layer #16, Channel #31\n",
      "[L16.q-proj] Pure Text Inputs\n",
      "[L16.q-proj] Pure Vision Inputs\n",
      "[L16.q-proj] Text + Vision Inputs\n",
      "[L16.o-proj] Pure Text Inputs\n",
      "[L16.o-proj] Pure Vision Inputs\n",
      "[L16.o-proj] Text + Vision Inputs\n",
      "[L16.up-proj] Pure Text Inputs\n",
      "[L16.up-proj] Pure Vision Inputs\n",
      "[L16.up-proj] Text + Vision Inputs\n",
      "[L16.down-proj] Pure Text Inputs\n",
      "[L16.down-proj] Pure Vision Inputs\n",
      "[L16.down-proj] Text + Vision Inputs\n",
      "Activation Distribution: Layer #17, Channel #31\n",
      "[L17.q-proj] Pure Text Inputs\n",
      "[L17.q-proj] Pure Vision Inputs\n",
      "[L17.q-proj] Text + Vision Inputs\n",
      "[L17.o-proj] Pure Text Inputs\n",
      "[L17.o-proj] Pure Vision Inputs\n",
      "[L17.o-proj] Text + Vision Inputs\n",
      "[L17.up-proj] Pure Text Inputs\n",
      "[L17.up-proj] Pure Vision Inputs\n",
      "[L17.up-proj] Text + Vision Inputs\n",
      "[L17.down-proj] Pure Text Inputs\n",
      "[L17.down-proj] Pure Vision Inputs\n",
      "[L17.down-proj] Text + Vision Inputs\n",
      "Activation Distribution: Layer #18, Channel #31\n",
      "[L18.q-proj] Pure Text Inputs\n",
      "[L18.q-proj] Pure Vision Inputs\n",
      "[L18.q-proj] Text + Vision Inputs\n",
      "[L18.o-proj] Pure Text Inputs\n",
      "[L18.o-proj] Pure Vision Inputs\n",
      "[L18.o-proj] Text + Vision Inputs\n",
      "[L18.up-proj] Pure Text Inputs\n",
      "[L18.up-proj] Pure Vision Inputs\n",
      "[L18.up-proj] Text + Vision Inputs\n",
      "[L18.down-proj] Pure Text Inputs\n",
      "[L18.down-proj] Pure Vision Inputs\n",
      "[L18.down-proj] Text + Vision Inputs\n",
      "Activation Distribution: Layer #19, Channel #31\n",
      "[L19.q-proj] Pure Text Inputs\n",
      "[L19.q-proj] Pure Vision Inputs\n",
      "[L19.q-proj] Text + Vision Inputs\n",
      "[L19.o-proj] Pure Text Inputs\n",
      "[L19.o-proj] Pure Vision Inputs\n",
      "[L19.o-proj] Text + Vision Inputs\n",
      "[L19.up-proj] Pure Text Inputs\n",
      "[L19.up-proj] Pure Vision Inputs\n",
      "[L19.up-proj] Text + Vision Inputs\n",
      "[L19.down-proj] Pure Text Inputs\n",
      "[L19.down-proj] Pure Vision Inputs\n",
      "[L19.down-proj] Text + Vision Inputs\n",
      "Activation Distribution: Layer #20, Channel #31\n",
      "[L20.q-proj] Pure Text Inputs\n"
     ]
    },
    {
     "name": "stderr",
     "output_type": "stream",
     "text": [
      "/tmp/ipykernel_2613204/4004907881.py:6: RuntimeWarning: More than 20 figures have been opened. Figures created through the pyplot interface (`matplotlib.pyplot.figure`) are retained until explicitly closed and may consume too much memory. (To control this warning, see the rcParam `figure.max_open_warning`). Consider using `matplotlib.pyplot.close()`.\n",
      "  plt.figure(figsize=(15, 16))\n"
     ]
    },
    {
     "name": "stdout",
     "output_type": "stream",
     "text": [
      "[L20.q-proj] Pure Vision Inputs\n",
      "[L20.q-proj] Text + Vision Inputs\n",
      "[L20.o-proj] Pure Text Inputs\n",
      "[L20.o-proj] Pure Vision Inputs\n",
      "[L20.o-proj] Text + Vision Inputs\n",
      "[L20.up-proj] Pure Text Inputs\n",
      "[L20.up-proj] Pure Vision Inputs\n",
      "[L20.up-proj] Text + Vision Inputs\n",
      "[L20.down-proj] Pure Text Inputs\n",
      "[L20.down-proj] Pure Vision Inputs\n",
      "[L20.down-proj] Text + Vision Inputs\n",
      "Activation Distribution: Layer #21, Channel #31\n",
      "[L21.q-proj] Pure Text Inputs\n",
      "[L21.q-proj] Pure Vision Inputs\n",
      "[L21.q-proj] Text + Vision Inputs\n",
      "[L21.o-proj] Pure Text Inputs\n",
      "[L21.o-proj] Pure Vision Inputs\n",
      "[L21.o-proj] Text + Vision Inputs\n",
      "[L21.up-proj] Pure Text Inputs\n",
      "[L21.up-proj] Pure Vision Inputs\n",
      "[L21.up-proj] Text + Vision Inputs\n",
      "[L21.down-proj] Pure Text Inputs\n",
      "[L21.down-proj] Pure Vision Inputs\n",
      "[L21.down-proj] Text + Vision Inputs\n",
      "Activation Distribution: Layer #22, Channel #31\n",
      "[L22.q-proj] Pure Text Inputs\n",
      "[L22.q-proj] Pure Vision Inputs\n",
      "[L22.q-proj] Text + Vision Inputs\n",
      "[L22.o-proj] Pure Text Inputs\n",
      "[L22.o-proj] Pure Vision Inputs\n",
      "[L22.o-proj] Text + Vision Inputs\n",
      "[L22.up-proj] Pure Text Inputs\n",
      "[L22.up-proj] Pure Vision Inputs\n",
      "[L22.up-proj] Text + Vision Inputs\n",
      "[L22.down-proj] Pure Text Inputs\n",
      "[L22.down-proj] Pure Vision Inputs\n",
      "[L22.down-proj] Text + Vision Inputs\n",
      "Activation Distribution: Layer #23, Channel #31\n",
      "[L23.q-proj] Pure Text Inputs\n",
      "[L23.q-proj] Pure Vision Inputs\n",
      "[L23.q-proj] Text + Vision Inputs\n",
      "[L23.o-proj] Pure Text Inputs\n",
      "[L23.o-proj] Pure Vision Inputs\n",
      "[L23.o-proj] Text + Vision Inputs\n",
      "[L23.up-proj] Pure Text Inputs\n",
      "[L23.up-proj] Pure Vision Inputs\n",
      "[L23.up-proj] Text + Vision Inputs\n",
      "[L23.down-proj] Pure Text Inputs\n",
      "[L23.down-proj] Pure Vision Inputs\n",
      "[L23.down-proj] Text + Vision Inputs\n",
      "Activation Distribution: Layer #24, Channel #31\n",
      "[L24.q-proj] Pure Text Inputs\n",
      "[L24.q-proj] Pure Vision Inputs\n",
      "[L24.q-proj] Text + Vision Inputs\n",
      "[L24.o-proj] Pure Text Inputs\n",
      "[L24.o-proj] Pure Vision Inputs\n",
      "[L24.o-proj] Text + Vision Inputs\n",
      "[L24.up-proj] Pure Text Inputs\n",
      "[L24.up-proj] Pure Vision Inputs\n",
      "[L24.up-proj] Text + Vision Inputs\n",
      "[L24.down-proj] Pure Text Inputs\n",
      "[L24.down-proj] Pure Vision Inputs\n",
      "[L24.down-proj] Text + Vision Inputs\n",
      "Activation Distribution: Layer #25, Channel #31\n",
      "[L25.q-proj] Pure Text Inputs\n",
      "[L25.q-proj] Pure Vision Inputs\n",
      "[L25.q-proj] Text + Vision Inputs\n",
      "[L25.o-proj] Pure Text Inputs\n",
      "[L25.o-proj] Pure Vision Inputs\n",
      "[L25.o-proj] Text + Vision Inputs\n",
      "[L25.up-proj] Pure Text Inputs\n",
      "[L25.up-proj] Pure Vision Inputs\n",
      "[L25.up-proj] Text + Vision Inputs\n",
      "[L25.down-proj] Pure Text Inputs\n",
      "[L25.down-proj] Pure Vision Inputs\n",
      "[L25.down-proj] Text + Vision Inputs\n",
      "Activation Distribution: Layer #26, Channel #31\n",
      "[L26.q-proj] Pure Text Inputs\n",
      "[L26.q-proj] Pure Vision Inputs\n",
      "[L26.q-proj] Text + Vision Inputs\n",
      "[L26.o-proj] Pure Text Inputs\n",
      "[L26.o-proj] Pure Vision Inputs\n",
      "[L26.o-proj] Text + Vision Inputs\n",
      "[L26.up-proj] Pure Text Inputs\n",
      "[L26.up-proj] Pure Vision Inputs\n",
      "[L26.up-proj] Text + Vision Inputs\n",
      "[L26.down-proj] Pure Text Inputs\n",
      "[L26.down-proj] Pure Vision Inputs\n",
      "[L26.down-proj] Text + Vision Inputs\n",
      "Activation Distribution: Layer #27, Channel #31\n",
      "[L27.q-proj] Pure Text Inputs\n",
      "[L27.q-proj] Pure Vision Inputs\n",
      "[L27.q-proj] Text + Vision Inputs\n",
      "[L27.o-proj] Pure Text Inputs\n",
      "[L27.o-proj] Pure Vision Inputs\n",
      "[L27.o-proj] Text + Vision Inputs\n",
      "[L27.up-proj] Pure Text Inputs\n",
      "[L27.up-proj] Pure Vision Inputs\n",
      "[L27.up-proj] Text + Vision Inputs\n",
      "[L27.down-proj] Pure Text Inputs\n",
      "[L27.down-proj] Pure Vision Inputs\n",
      "[L27.down-proj] Text + Vision Inputs\n",
      "Activation Distribution: Layer #28, Channel #31\n",
      "[L28.q-proj] Pure Text Inputs\n",
      "[L28.q-proj] Pure Vision Inputs\n",
      "[L28.q-proj] Text + Vision Inputs\n",
      "[L28.o-proj] Pure Text Inputs\n",
      "[L28.o-proj] Pure Vision Inputs\n",
      "[L28.o-proj] Text + Vision Inputs\n",
      "[L28.up-proj] Pure Text Inputs\n",
      "[L28.up-proj] Pure Vision Inputs\n",
      "[L28.up-proj] Text + Vision Inputs\n",
      "[L28.down-proj] Pure Text Inputs\n",
      "[L28.down-proj] Pure Vision Inputs\n",
      "[L28.down-proj] Text + Vision Inputs\n",
      "Activation Distribution: Layer #29, Channel #31\n",
      "[L29.q-proj] Pure Text Inputs\n",
      "[L29.q-proj] Pure Vision Inputs\n",
      "[L29.q-proj] Text + Vision Inputs\n",
      "[L29.o-proj] Pure Text Inputs\n",
      "[L29.o-proj] Pure Vision Inputs\n",
      "[L29.o-proj] Text + Vision Inputs\n",
      "[L29.up-proj] Pure Text Inputs\n",
      "[L29.up-proj] Pure Vision Inputs\n",
      "[L29.up-proj] Text + Vision Inputs\n",
      "[L29.down-proj] Pure Text Inputs\n",
      "[L29.down-proj] Pure Vision Inputs\n",
      "[L29.down-proj] Text + Vision Inputs\n",
      "Activation Distribution: Layer #30, Channel #31\n",
      "[L30.q-proj] Pure Text Inputs\n",
      "[L30.q-proj] Pure Vision Inputs\n",
      "[L30.q-proj] Text + Vision Inputs\n",
      "[L30.o-proj] Pure Text Inputs\n",
      "[L30.o-proj] Pure Vision Inputs\n",
      "[L30.o-proj] Text + Vision Inputs\n",
      "[L30.up-proj] Pure Text Inputs\n",
      "[L30.up-proj] Pure Vision Inputs\n",
      "[L30.up-proj] Text + Vision Inputs\n",
      "[L30.down-proj] Pure Text Inputs\n",
      "[L30.down-proj] Pure Vision Inputs\n",
      "[L30.down-proj] Text + Vision Inputs\n",
      "Activation Distribution: Layer #31, Channel #31\n",
      "[L31.q-proj] Pure Text Inputs\n",
      "[L31.q-proj] Pure Vision Inputs\n",
      "[L31.q-proj] Text + Vision Inputs\n",
      "[L31.o-proj] Pure Text Inputs\n",
      "[L31.o-proj] Pure Vision Inputs\n",
      "[L31.o-proj] Text + Vision Inputs\n",
      "[L31.up-proj] Pure Text Inputs\n",
      "[L31.up-proj] Pure Vision Inputs\n",
      "[L31.up-proj] Text + Vision Inputs\n",
      "[L31.down-proj] Pure Text Inputs\n",
      "[L31.down-proj] Pure Vision Inputs\n",
      "[L31.down-proj] Text + Vision Inputs\n"
     ]
    },
    {
     "data": {
      "text/plain": [
       "<Figure size 1500x1600 with 0 Axes>"
      ]
     },
     "metadata": {},
     "output_type": "display_data"
    },
    {
     "data": {
      "text/plain": [
       "<Figure size 1500x1600 with 0 Axes>"
      ]
     },
     "metadata": {},
     "output_type": "display_data"
    },
    {
     "data": {
      "text/plain": [
       "<Figure size 1500x1600 with 0 Axes>"
      ]
     },
     "metadata": {},
     "output_type": "display_data"
    },
    {
     "data": {
      "text/plain": [
       "<Figure size 1500x1600 with 0 Axes>"
      ]
     },
     "metadata": {},
     "output_type": "display_data"
    },
    {
     "data": {
      "text/plain": [
       "<Figure size 1500x1600 with 0 Axes>"
      ]
     },
     "metadata": {},
     "output_type": "display_data"
    },
    {
     "data": {
      "text/plain": [
       "<Figure size 1500x1600 with 0 Axes>"
      ]
     },
     "metadata": {},
     "output_type": "display_data"
    },
    {
     "data": {
      "text/plain": [
       "<Figure size 1500x1600 with 0 Axes>"
      ]
     },
     "metadata": {},
     "output_type": "display_data"
    },
    {
     "data": {
      "text/plain": [
       "<Figure size 1500x1600 with 0 Axes>"
      ]
     },
     "metadata": {},
     "output_type": "display_data"
    },
    {
     "data": {
      "text/plain": [
       "<Figure size 1500x1600 with 0 Axes>"
      ]
     },
     "metadata": {},
     "output_type": "display_data"
    },
    {
     "data": {
      "text/plain": [
       "<Figure size 1500x1600 with 0 Axes>"
      ]
     },
     "metadata": {},
     "output_type": "display_data"
    },
    {
     "data": {
      "text/plain": [
       "<Figure size 1500x1600 with 0 Axes>"
      ]
     },
     "metadata": {},
     "output_type": "display_data"
    },
    {
     "data": {
      "text/plain": [
       "<Figure size 1500x1600 with 0 Axes>"
      ]
     },
     "metadata": {},
     "output_type": "display_data"
    },
    {
     "data": {
      "text/plain": [
       "<Figure size 1500x1600 with 0 Axes>"
      ]
     },
     "metadata": {},
     "output_type": "display_data"
    },
    {
     "data": {
      "text/plain": [
       "<Figure size 1500x1600 with 0 Axes>"
      ]
     },
     "metadata": {},
     "output_type": "display_data"
    },
    {
     "data": {
      "text/plain": [
       "<Figure size 1500x1600 with 0 Axes>"
      ]
     },
     "metadata": {},
     "output_type": "display_data"
    },
    {
     "data": {
      "text/plain": [
       "<Figure size 1500x1600 with 0 Axes>"
      ]
     },
     "metadata": {},
     "output_type": "display_data"
    },
    {
     "data": {
      "text/plain": [
       "<Figure size 1500x1600 with 0 Axes>"
      ]
     },
     "metadata": {},
     "output_type": "display_data"
    },
    {
     "data": {
      "text/plain": [
       "<Figure size 1500x1600 with 0 Axes>"
      ]
     },
     "metadata": {},
     "output_type": "display_data"
    },
    {
     "data": {
      "text/plain": [
       "<Figure size 1500x1600 with 0 Axes>"
      ]
     },
     "metadata": {},
     "output_type": "display_data"
    },
    {
     "data": {
      "text/plain": [
       "<Figure size 1500x1600 with 0 Axes>"
      ]
     },
     "metadata": {},
     "output_type": "display_data"
    },
    {
     "data": {
      "text/plain": [
       "<Figure size 1500x1600 with 0 Axes>"
      ]
     },
     "metadata": {},
     "output_type": "display_data"
    },
    {
     "data": {
      "text/plain": [
       "<Figure size 1500x1600 with 0 Axes>"
      ]
     },
     "metadata": {},
     "output_type": "display_data"
    },
    {
     "data": {
      "text/plain": [
       "<Figure size 1500x1600 with 0 Axes>"
      ]
     },
     "metadata": {},
     "output_type": "display_data"
    },
    {
     "data": {
      "text/plain": [
       "<Figure size 1500x1600 with 0 Axes>"
      ]
     },
     "metadata": {},
     "output_type": "display_data"
    },
    {
     "data": {
      "text/plain": [
       "<Figure size 1500x1600 with 0 Axes>"
      ]
     },
     "metadata": {},
     "output_type": "display_data"
    },
    {
     "data": {
      "text/plain": [
       "<Figure size 1500x1600 with 0 Axes>"
      ]
     },
     "metadata": {},
     "output_type": "display_data"
    },
    {
     "data": {
      "text/plain": [
       "<Figure size 1500x1600 with 0 Axes>"
      ]
     },
     "metadata": {},
     "output_type": "display_data"
    },
    {
     "data": {
      "text/plain": [
       "<Figure size 1500x1600 with 0 Axes>"
      ]
     },
     "metadata": {},
     "output_type": "display_data"
    },
    {
     "data": {
      "text/plain": [
       "<Figure size 1500x1600 with 0 Axes>"
      ]
     },
     "metadata": {},
     "output_type": "display_data"
    },
    {
     "data": {
      "text/plain": [
       "<Figure size 1500x1600 with 0 Axes>"
      ]
     },
     "metadata": {},
     "output_type": "display_data"
    },
    {
     "data": {
      "text/plain": [
       "<Figure size 1500x1600 with 0 Axes>"
      ]
     },
     "metadata": {},
     "output_type": "display_data"
    },
    {
     "data": {
      "text/plain": [
       "<Figure size 1500x1600 with 0 Axes>"
      ]
     },
     "metadata": {},
     "output_type": "display_data"
    }
   ],
   "source": [
    "for layer in range(32):\n",
    "    plot_all_comp(layer, channel=31)\n",
    "    plt.clf()"
   ]
  },
  {
   "cell_type": "code",
   "execution_count": null,
   "metadata": {},
   "outputs": [],
   "source": []
  }
 ],
 "metadata": {
  "kernelspec": {
   "display_name": "minigpt4",
   "language": "python",
   "name": "python3"
  },
  "language_info": {
   "codemirror_mode": {
    "name": "ipython",
    "version": 3
   },
   "file_extension": ".py",
   "mimetype": "text/x-python",
   "name": "python",
   "nbconvert_exporter": "python",
   "pygments_lexer": "ipython3",
   "version": "3.9.18"
  },
  "orig_nbformat": 4
 },
 "nbformat": 4,
 "nbformat_minor": 2
}
