{
 "cells": [
  {
   "cell_type": "code",
   "execution_count": 1,
   "metadata": {},
   "outputs": [],
   "source": [
    "import os\n",
    "import glob\n",
    "import json\n",
    "import torch\n",
    "import numpy as np\n",
    "import matplotlib.pyplot as plt\n",
    "import seaborn as sns\n",
    "from PIL import Image"
   ]
  },
  {
   "cell_type": "code",
   "execution_count": 23,
   "metadata": {},
   "outputs": [
    {
     "name": "stderr",
     "output_type": "stream",
     "text": [
      "/home/chengzhang/anaconda3/envs/minigpt4/lib/python3.9/site-packages/tqdm/auto.py:22: TqdmWarning: IProgress not found. Please update jupyter and ipywidgets. See https://ipywidgets.readthedocs.io/en/stable/user_install.html\n",
      "  from .autonotebook import tqdm as notebook_tqdm\n"
     ]
    },
    {
     "name": "stdout",
     "output_type": "stream",
     "text": [
      "[2023-11-08 02:57:18,061] [INFO] [real_accelerator.py:110:get_accelerator] Setting ds_accelerator to cuda (auto detect)\n"
     ]
    },
    {
     "name": "stderr",
     "output_type": "stream",
     "text": [
      "Loading checkpoint shards:   0%|          | 0/2 [00:00<?, ?it/s]"
     ]
    }
   ],
   "source": [
    "from llava.constants import IMAGE_TOKEN_INDEX\n",
    "from llava.model.builder import load_pretrained_model\n",
    "from llava.mm_utils import get_model_name_from_path, tokenizer_image_token\n",
    "\n",
    "model_base = None  # \"/home/chengzhang/models/llava/llava-v1-0719-336px-lora-merge-vicuna-13b-v1.3\"\n",
    "model_path = \"/home/chengzhang/models/llava/llava-v1.5-7b\"  # \"/home/chengzhang/models/llava/llava-336px-pretrain-vicuna-13b-v1.3\"\n",
    "model_name = get_model_name_from_path(model_path)\n",
    "tokenizer, model, image_processor, context_len = load_pretrained_model(\n",
    "    model_path, model_base, model_name\n",
    ")"
   ]
  },
  {
   "cell_type": "code",
   "execution_count": 20,
   "metadata": {},
   "outputs": [],
   "source": [
    "def act(x: torch.Tensor):\n",
    "    return torch.nn.functional.silu(x)"
   ]
  },
  {
   "cell_type": "code",
   "execution_count": 9,
   "metadata": {},
   "outputs": [],
   "source": [
    "def load_tensor(\n",
    "    layer: int,\n",
    "    comp: str,\n",
    "    stage: str,\n",
    ") -> np.ndarray:\n",
    "    folder = '/home/chengzhang/Multimodal-Quantization/LLaVA/snapshot/tmp'\n",
    "    act: torch.Tensor = torch.load(f'{folder}/model.layers.{layer}.{comp}-{stage}.pt')\n",
    "    return act\n",
    "\n",
    "def plot_quant(ax: plt.Axes, before: np.ndarray, after: np.ndarray, bins: int = 200):\n",
    "    freqs_before, _, _ = ax.hist(before, bins=bins)\n",
    "    freqs_after, _, _ = ax.hist(after, bins=bins)"
   ]
  },
  {
   "cell_type": "code",
   "execution_count": 18,
   "metadata": {},
   "outputs": [
    {
     "data": {
      "image/png": "[encoded data removed]",
      "text/plain": [
       "<Figure size 640x480 with 1 Axes>"
      ]
     },
     "metadata": {},
     "output_type": "display_data"
    }
   ],
   "source": [
    "x1 = load_tensor(0, 'mlp.up_proj', 'before')[0, 4, :].flatten().cpu().numpy()\n",
    "x2 = load_tensor(0, 'mlp.up_proj', 'after')[0, 4, :].flatten().cpu().numpy()\n",
    "ax = plt.subplot(1, 1, 1)\n",
    "plot_quant(ax, x1, x2)"
   ]
  },
  {
   "cell_type": "code",
   "execution_count": 19,
   "metadata": {},
   "outputs": [
    {
     "data": {
      "image/png": "[encoded data removed]",
      "text/plain": [
       "<Figure size 640x480 with 1 Axes>"
      ]
     },
     "metadata": {},
     "output_type": "display_data"
    }
   ],
   "source": [
    "x1 = load_tensor(0, 'mlp.up_proj', 'before')[0, -1, :].flatten().cpu().numpy()\n",
    "x2 = load_tensor(0, 'mlp.up_proj', 'after')[0, -1, :].flatten().cpu().numpy()\n",
    "ax = plt.subplot(1, 1, 1)\n",
    "plot_quant(ax, x1, x2)"
   ]
  },
  {
   "cell_type": "code",
   "execution_count": 21,
   "metadata": {},
   "outputs": [
    {
     "data": {
      "text/plain": [
       "array([ 0.003025 , -0.01953  , -0.0421   , ...,  0.02731  , -0.0003629,\n",
       "       -0.01226  ], dtype=float16)"
      ]
     },
     "execution_count": 21,
     "metadata": {},
     "output_type": "execute_result"
    }
   ],
   "source": [
    "x1"
   ]
  },
  {
   "cell_type": "code",
   "execution_count": 22,
   "metadata": {},
   "outputs": [
    {
     "data": {
      "text/plain": [
       "array([ 0., -0., -0., ...,  0., -0., -0.], dtype=float16)"
      ]
     },
     "execution_count": 22,
     "metadata": {},
     "output_type": "execute_result"
    }
   ],
   "source": [
    "x2"
   ]
  },
  {
   "cell_type": "code",
   "execution_count": 24,
   "metadata": {},
   "outputs": [],
   "source": [
    "mlp = model.model.layers[0].mlp"
   ]
  },
  {
   "cell_type": "code",
   "execution_count": 25,
   "metadata": {},
   "outputs": [],
   "source": [
    "x_before = load_tensor(0, 'mlp.up_proj', 'before')\n",
    "x_after = load_tensor(0, 'mlp.up_proj', 'after')"
   ]
  },
  {
   "cell_type": "code",
   "execution_count": 26,
   "metadata": {},
   "outputs": [
    {
     "data": {
      "text/plain": [
       "tensor([[[-8.9407e-07,  5.9605e-08, -5.3644e-07,  ...,  1.7881e-07,\n",
       "           5.9605e-08,  1.7881e-07],\n",
       "         [-8.9407e-07,  5.9605e-08, -5.3644e-07,  ...,  1.7881e-07,\n",
       "           5.9605e-08,  1.7881e-07],\n",
       "         [-8.9407e-07,  5.9605e-08, -5.3644e-07,  ...,  1.7881e-07,\n",
       "           5.9605e-08,  1.7881e-07],\n",
       "         ...,\n",
       "         [ 1.6861e-02,  2.5955e-02, -1.4778e-02,  ...,  5.9509e-03,\n",
       "          -1.4549e-02,  3.4313e-03],\n",
       "         [ 2.7790e-03,  1.7843e-03,  3.0732e-04,  ..., -1.0902e-02,\n",
       "          -5.9547e-03, -5.7335e-03],\n",
       "         [ 1.5039e-03, -7.4272e-03,  3.5667e-03,  ...,  1.8930e-03,\n",
       "          -5.2109e-03, -7.3471e-03]],\n",
       "\n",
       "        [[-8.9407e-07,  5.9605e-08, -5.3644e-07,  ...,  1.7881e-07,\n",
       "           5.9605e-08,  1.7881e-07],\n",
       "         [-8.9407e-07,  5.9605e-08, -5.3644e-07,  ...,  1.7881e-07,\n",
       "           5.9605e-08,  1.7881e-07],\n",
       "         [-8.9407e-07,  5.9605e-08, -5.3644e-07,  ...,  1.7881e-07,\n",
       "           5.9605e-08,  1.7881e-07],\n",
       "         ...,\n",
       "         [ 1.6861e-02,  2.5955e-02, -1.4778e-02,  ...,  5.9509e-03,\n",
       "          -1.4549e-02,  3.4313e-03],\n",
       "         [ 2.7790e-03,  1.7843e-03,  3.0732e-04,  ..., -1.0902e-02,\n",
       "          -5.9547e-03, -5.7335e-03],\n",
       "         [ 1.5039e-03, -7.4272e-03,  3.5667e-03,  ...,  1.8930e-03,\n",
       "          -5.2109e-03, -7.3471e-03]],\n",
       "\n",
       "        [[-8.9407e-07,  5.9605e-08, -5.3644e-07,  ...,  1.7881e-07,\n",
       "           5.9605e-08,  1.7881e-07],\n",
       "         [-8.9407e-07,  5.9605e-08, -5.3644e-07,  ...,  1.7881e-07,\n",
       "           5.9605e-08,  1.7881e-07],\n",
       "         [-8.9407e-07,  5.9605e-08, -5.3644e-07,  ...,  1.7881e-07,\n",
       "           5.9605e-08,  1.7881e-07],\n",
       "         ...,\n",
       "         [ 1.6861e-02,  2.5955e-02, -1.4778e-02,  ...,  5.9509e-03,\n",
       "          -1.4549e-02,  3.4313e-03],\n",
       "         [ 2.7790e-03,  1.7843e-03,  3.0732e-04,  ..., -1.0902e-02,\n",
       "          -5.9547e-03, -5.7335e-03],\n",
       "         [ 1.5039e-03, -7.4272e-03,  3.5667e-03,  ...,  1.8930e-03,\n",
       "          -5.2109e-03, -7.3471e-03]],\n",
       "\n",
       "        ...,\n",
       "\n",
       "        [[-8.9407e-07,  5.9605e-08, -5.3644e-07,  ...,  1.7881e-07,\n",
       "           5.9605e-08,  1.7881e-07],\n",
       "         [-8.9407e-07,  5.9605e-08, -5.3644e-07,  ...,  1.7881e-07,\n",
       "           5.9605e-08,  1.7881e-07],\n",
       "         [ 8.5526e-03,  5.9204e-02, -2.8992e-02,  ..., -1.1795e-02,\n",
       "          -1.7548e-02, -1.0118e-03],\n",
       "         ...,\n",
       "         [ 1.6663e-02,  2.4307e-02, -1.0628e-02,  ...,  6.3667e-03,\n",
       "          -1.2825e-02,  5.0392e-03],\n",
       "         [ 4.8065e-03,  9.6560e-04,  1.5411e-03,  ..., -1.0925e-02,\n",
       "          -3.5820e-03, -6.1989e-03],\n",
       "         [ 1.1482e-03, -4.2801e-03,  2.3251e-03,  ...,  3.5095e-03,\n",
       "          -1.3504e-03, -9.6817e-03]],\n",
       "\n",
       "        [[-8.9407e-07,  5.9605e-08, -5.3644e-07,  ...,  1.7881e-07,\n",
       "           5.9605e-08,  1.7881e-07],\n",
       "         [-8.9407e-07,  5.9605e-08, -5.3644e-07,  ...,  1.7881e-07,\n",
       "           5.9605e-08,  1.7881e-07],\n",
       "         [ 8.5526e-03,  5.9204e-02, -2.8992e-02,  ..., -1.1795e-02,\n",
       "          -1.7548e-02, -1.0118e-03],\n",
       "         ...,\n",
       "         [ 1.6663e-02,  2.4307e-02, -1.0628e-02,  ...,  6.3667e-03,\n",
       "          -1.2825e-02,  5.0392e-03],\n",
       "         [ 4.8065e-03,  9.6560e-04,  1.5411e-03,  ..., -1.0925e-02,\n",
       "          -3.5820e-03, -6.1989e-03],\n",
       "         [ 1.1482e-03, -4.2801e-03,  2.3251e-03,  ...,  3.5095e-03,\n",
       "          -1.3504e-03, -9.6817e-03]],\n",
       "\n",
       "        [[-8.9407e-07,  5.9605e-08, -5.3644e-07,  ...,  1.7881e-07,\n",
       "           5.9605e-08,  1.7881e-07],\n",
       "         [-8.9407e-07,  5.9605e-08, -5.3644e-07,  ...,  1.7881e-07,\n",
       "           5.9605e-08,  1.7881e-07],\n",
       "         [ 8.5526e-03,  5.9204e-02, -2.8992e-02,  ..., -1.1795e-02,\n",
       "          -1.7548e-02, -1.0118e-03],\n",
       "         ...,\n",
       "         [ 1.6663e-02,  2.4307e-02, -1.0628e-02,  ...,  6.3667e-03,\n",
       "          -1.2825e-02,  5.0392e-03],\n",
       "         [ 4.8065e-03,  9.6560e-04,  1.5411e-03,  ..., -1.0925e-02,\n",
       "          -3.5820e-03, -6.1989e-03],\n",
       "         [ 1.1482e-03, -4.2801e-03,  2.3251e-03,  ...,  3.5095e-03,\n",
       "          -1.3504e-03, -9.6817e-03]]], device='cuda:0', dtype=torch.float16,\n",
       "       grad_fn=<UnsafeViewBackward0>)"
      ]
     },
     "execution_count": 26,
     "metadata": {},
     "output_type": "execute_result"
    }
   ],
   "source": [
    "mlp.down_proj(act(mlp.gate_proj(x_before)) * mlp.up_proj(x_before))"
   ]
  },
  {
   "cell_type": "code",
   "execution_count": 27,
   "metadata": {},
   "outputs": [
    {
     "data": {
      "text/plain": [
       "tensor([[[-4.1723e-07,  5.9605e-08, -4.7684e-07,  ...,  2.9802e-07,\n",
       "           0.0000e+00, -0.0000e+00],\n",
       "         [-4.1723e-07,  5.9605e-08, -4.7684e-07,  ...,  2.9802e-07,\n",
       "           0.0000e+00, -0.0000e+00],\n",
       "         [-4.1723e-07,  5.9605e-08, -4.7684e-07,  ...,  2.9802e-07,\n",
       "           0.0000e+00, -0.0000e+00],\n",
       "         ...,\n",
       "         [ 1.7792e-02,  2.2324e-02, -1.5854e-02,  ...,  4.6196e-03,\n",
       "          -9.9411e-03,  1.4257e-03],\n",
       "         [-2.2316e-03, -1.2007e-03, -2.2399e-04,  ..., -6.1646e-03,\n",
       "          -6.0272e-03, -1.1075e-04],\n",
       "         [ 2.0638e-03, -7.9880e-03,  1.6165e-03,  ..., -9.2220e-04,\n",
       "          -3.9940e-03, -5.7831e-03]],\n",
       "\n",
       "        [[-4.1723e-07,  5.9605e-08, -4.7684e-07,  ...,  2.9802e-07,\n",
       "           0.0000e+00, -0.0000e+00],\n",
       "         [-4.1723e-07,  5.9605e-08, -4.7684e-07,  ...,  2.9802e-07,\n",
       "           0.0000e+00, -0.0000e+00],\n",
       "         [-4.1723e-07,  5.9605e-08, -4.7684e-07,  ...,  2.9802e-07,\n",
       "           0.0000e+00, -0.0000e+00],\n",
       "         ...,\n",
       "         [ 1.7792e-02,  2.2324e-02, -1.5854e-02,  ...,  4.6196e-03,\n",
       "          -9.9411e-03,  1.4257e-03],\n",
       "         [-2.2316e-03, -1.2007e-03, -2.2399e-04,  ..., -6.1646e-03,\n",
       "          -6.0272e-03, -1.1075e-04],\n",
       "         [ 2.0638e-03, -7.9880e-03,  1.6165e-03,  ..., -9.2220e-04,\n",
       "          -3.9940e-03, -5.7831e-03]],\n",
       "\n",
       "        [[-4.1723e-07,  5.9605e-08, -4.7684e-07,  ...,  2.9802e-07,\n",
       "           0.0000e+00, -0.0000e+00],\n",
       "         [-4.1723e-07,  5.9605e-08, -4.7684e-07,  ...,  2.9802e-07,\n",
       "           0.0000e+00, -0.0000e+00],\n",
       "         [-4.1723e-07,  5.9605e-08, -4.7684e-07,  ...,  2.9802e-07,\n",
       "           0.0000e+00, -0.0000e+00],\n",
       "         ...,\n",
       "         [ 1.7792e-02,  2.2324e-02, -1.5854e-02,  ...,  4.6196e-03,\n",
       "          -9.9411e-03,  1.4257e-03],\n",
       "         [-2.2316e-03, -1.2007e-03, -2.2399e-04,  ..., -6.1646e-03,\n",
       "          -6.0272e-03, -1.1075e-04],\n",
       "         [ 2.0638e-03, -7.9880e-03,  1.6165e-03,  ..., -9.2220e-04,\n",
       "          -3.9940e-03, -5.7831e-03]],\n",
       "\n",
       "        ...,\n",
       "\n",
       "        [[-4.1723e-07,  5.9605e-08, -4.7684e-07,  ...,  2.9802e-07,\n",
       "           0.0000e+00, -0.0000e+00],\n",
       "         [-4.1723e-07,  5.9605e-08, -4.7684e-07,  ...,  2.9802e-07,\n",
       "           0.0000e+00, -0.0000e+00],\n",
       "         [ 2.4166e-03,  1.3947e-02,  8.1024e-03,  ...,  7.7438e-04,\n",
       "          -1.0010e-02, -9.2697e-03],\n",
       "         ...,\n",
       "         [ 1.5526e-02,  1.7212e-02, -7.7171e-03,  ...,  5.8937e-03,\n",
       "          -1.3680e-02,  4.6043e-03],\n",
       "         [-9.8228e-04, -1.7338e-03, -1.4648e-03,  ..., -3.7365e-03,\n",
       "          -3.4637e-03,  1.4715e-03],\n",
       "         [ 3.5286e-04, -6.4430e-03, -1.2290e-04,  ..., -3.9253e-03,\n",
       "          -1.1196e-03, -5.5313e-03]],\n",
       "\n",
       "        [[-4.1723e-07,  5.9605e-08, -4.7684e-07,  ...,  2.9802e-07,\n",
       "           0.0000e+00, -0.0000e+00],\n",
       "         [-4.1723e-07,  5.9605e-08, -4.7684e-07,  ...,  2.9802e-07,\n",
       "           0.0000e+00, -0.0000e+00],\n",
       "         [ 2.4166e-03,  1.3947e-02,  8.1024e-03,  ...,  7.7438e-04,\n",
       "          -1.0010e-02, -9.2697e-03],\n",
       "         ...,\n",
       "         [ 1.5526e-02,  1.7212e-02, -7.7171e-03,  ...,  5.8937e-03,\n",
       "          -1.3680e-02,  4.6043e-03],\n",
       "         [-9.8228e-04, -1.7338e-03, -1.4648e-03,  ..., -3.7365e-03,\n",
       "          -3.4637e-03,  1.4715e-03],\n",
       "         [ 3.5286e-04, -6.4430e-03, -1.2290e-04,  ..., -3.9253e-03,\n",
       "          -1.1196e-03, -5.5313e-03]],\n",
       "\n",
       "        [[-4.1723e-07,  5.9605e-08, -4.7684e-07,  ...,  2.9802e-07,\n",
       "           0.0000e+00, -0.0000e+00],\n",
       "         [-4.1723e-07,  5.9605e-08, -4.7684e-07,  ...,  2.9802e-07,\n",
       "           0.0000e+00, -0.0000e+00],\n",
       "         [ 2.4166e-03,  1.3947e-02,  8.1024e-03,  ...,  7.7438e-04,\n",
       "          -1.0010e-02, -9.2697e-03],\n",
       "         ...,\n",
       "         [ 1.5526e-02,  1.7212e-02, -7.7171e-03,  ...,  5.8937e-03,\n",
       "          -1.3680e-02,  4.6043e-03],\n",
       "         [-9.8228e-04, -1.7338e-03, -1.4648e-03,  ..., -3.7365e-03,\n",
       "          -3.4637e-03,  1.4715e-03],\n",
       "         [ 3.5286e-04, -6.4430e-03, -1.2290e-04,  ..., -3.9253e-03,\n",
       "          -1.1196e-03, -5.5313e-03]]], device='cuda:0', dtype=torch.float16,\n",
       "       grad_fn=<UnsafeViewBackward0>)"
      ]
     },
     "execution_count": 27,
     "metadata": {},
     "output_type": "execute_result"
    }
   ],
   "source": [
    "mlp.down_proj(act(mlp.gate_proj(x_after)) * mlp.up_proj(x_after))"
   ]
  },
  {
   "cell_type": "code",
   "execution_count": 30,
   "metadata": {},
   "outputs": [],
   "source": [
    "y_before = load_tensor(0, 'mlp.down_proj', 'before')\n",
    "y_after = load_tensor(0, 'mlp.down_proj', 'after')"
   ]
  },
  {
   "cell_type": "code",
   "execution_count": 47,
   "metadata": {},
   "outputs": [],
   "source": [
    "def quant_activation_round_to_nearest(x: torch.Tensor, bits: int, dim: int = 1):\n",
    "    act_scales = torch.max(torch.abs(x), dim=dim, keepdim=True).values.to(torch.float32)\n",
    "    s = (2 ** (bits - 1) - 1) / (act_scales + 1e-6)\n",
    "    x = torch.round(x * s).div(s).to(torch.float16)\n",
    "    return x"
   ]
  },
  {
   "cell_type": "code",
   "execution_count": 48,
   "metadata": {},
   "outputs": [
    {
     "data": {
      "text/plain": [
       "tensor([[[0., -0., 0.,  ..., 0., 0., -0.],\n",
       "         [0., -0., 0.,  ..., 0., 0., -0.],\n",
       "         [0., -0., 0.,  ..., 0., 0., -0.],\n",
       "         ...,\n",
       "         [-0., 0., -0.,  ..., -0., 0., 0.],\n",
       "         [0., -0., 0.,  ..., 0., -0., -0.],\n",
       "         [-0., 0., 0.,  ..., -0., -0., -0.]],\n",
       "\n",
       "        [[0., -0., 0.,  ..., 0., 0., -0.],\n",
       "         [0., -0., 0.,  ..., 0., 0., -0.],\n",
       "         [0., -0., 0.,  ..., 0., 0., -0.],\n",
       "         ...,\n",
       "         [-0., 0., -0.,  ..., -0., 0., 0.],\n",
       "         [0., -0., 0.,  ..., 0., -0., -0.],\n",
       "         [-0., 0., 0.,  ..., -0., -0., -0.]],\n",
       "\n",
       "        [[0., -0., 0.,  ..., 0., 0., -0.],\n",
       "         [0., -0., 0.,  ..., 0., 0., -0.],\n",
       "         [0., -0., 0.,  ..., 0., 0., -0.],\n",
       "         ...,\n",
       "         [-0., 0., -0.,  ..., -0., 0., 0.],\n",
       "         [0., -0., 0.,  ..., 0., -0., -0.],\n",
       "         [-0., 0., 0.,  ..., -0., -0., -0.]],\n",
       "\n",
       "        ...,\n",
       "\n",
       "        [[0., -0., 0.,  ..., 0., 0., -0.],\n",
       "         [0., -0., 0.,  ..., 0., 0., -0.],\n",
       "         [0., -0., 0.,  ..., 0., -0., 0.],\n",
       "         ...,\n",
       "         [-0., 0., -0.,  ..., 0., 0., 0.],\n",
       "         [0., -0., 0.,  ..., 0., -0., 0.],\n",
       "         [0., 0., 0.,  ..., 0., -0., 0.]],\n",
       "\n",
       "        [[0., -0., 0.,  ..., 0., 0., -0.],\n",
       "         [0., -0., 0.,  ..., 0., 0., -0.],\n",
       "         [0., -0., 0.,  ..., 0., -0., 0.],\n",
       "         ...,\n",
       "         [-0., 0., -0.,  ..., 0., 0., 0.],\n",
       "         [0., -0., 0.,  ..., 0., -0., 0.],\n",
       "         [0., 0., 0.,  ..., 0., -0., 0.]],\n",
       "\n",
       "        [[0., -0., 0.,  ..., 0., 0., -0.],\n",
       "         [0., -0., 0.,  ..., 0., 0., -0.],\n",
       "         [0., -0., 0.,  ..., 0., -0., 0.],\n",
       "         ...,\n",
       "         [-0., 0., -0.,  ..., 0., 0., 0.],\n",
       "         [0., -0., 0.,  ..., 0., -0., 0.],\n",
       "         [0., 0., 0.,  ..., 0., -0., 0.]]], device='cuda:0')"
      ]
     },
     "execution_count": 48,
     "metadata": {},
     "output_type": "execute_result"
    }
   ],
   "source": [
    "quant_activation_round_to_nearest(y_before, bits=4, dim=-1)"
   ]
  },
  {
   "cell_type": "code",
   "execution_count": 2,
   "metadata": {},
   "outputs": [],
   "source": [
    "def f(x):\n",
    "    y = 0.5 * x ** 3 + 0.5 * x\n",
    "    return y\n",
    "\n",
    "def g(x):\n",
    "    y = 0.693361 / np.power(1.73205 * np.sqrt(27 * np.square(x) + 1) - 9 * x, 1 / 3) - \\\n",
    "        0.48075 * np.power(1.73205 * np.sqrt(27 * np.square(x) + 1) - 9 * x, 1 / 3)\n",
    "    return y"
   ]
  },
  {
   "cell_type": "code",
   "execution_count": 87,
   "metadata": {},
   "outputs": [],
   "source": [
    "def symmetric_cbrt(x: torch.Tensor, bits: int, dim: int = 1):\n",
    "    act_scales = torch.max(torch.abs(x), dim=dim, keepdim=True).values\n",
    "    x /= act_scales\n",
    "    x = 0.693361 / torch.pow(1.73205 * torch.sqrt(27 * torch.square(x) + 1) - 9 * x, 1 / 3) - \\\n",
    "        0.48075 * torch.pow(1.73205 * torch.sqrt(27 * torch.square(x) + 1) - 9 * x, 1 / 3)\n",
    "    bins = 2 ** (bits - 1)\n",
    "    x = torch.round(x * bins) / bins\n",
    "    x = (0.5 * torch.pow(x, 3) + 0.5 * x) * act_scales\n",
    "    return x.where(torch.isfinite(x), 0.0)\n",
    "\n",
    "def symmetric_sqrt(x: torch.Tensor, bits: int, dim: int = 1):\n",
    "    act_scales = torch.max(torch.abs(x), dim=dim, keepdim=True).values\n",
    "    x = torch.sign(x) * torch.sqrt(torch.abs(x) / act_scales)\n",
    "    bins = 2 ** (bits - 1)\n",
    "    x = torch.round(x * bins) / bins\n",
    "    x = torch.sign(x) * torch.square(x) * act_scales\n",
    "    return x.where(torch.isfinite(x), 0.0)\n",
    "\n",
    "def quant_activations(x: torch.Tensor, bits: int = 4, dim: int = 1, outliers_thres: float = 3.0):\n",
    "    x = x.to(torch.float64)\n",
    "    if outliers_thres > 0:\n",
    "        raw_x = x.clone()\n",
    "        # act_means = torch.mean(x, dim=dim, keepdim=True)\n",
    "        # act_stds = torch.std(x, dim=dim, keepdim=True)\n",
    "        # print(act_means)\n",
    "        # print(act_stds)\n",
    "        lower_bound = torch.quantile(x, 0.025, dim=dim, keepdim=True)\n",
    "        upper_bound = torch.quantile(x, 0.975, dim=dim, keepdim=True)\n",
    "        quant_mask = torch.bitwise_and(\n",
    "            raw_x > lower_bound,  # act_means - outliers_thres * act_stds,\n",
    "            raw_x < upper_bound,  # act_means + outliers_thres * act_stds,\n",
    "        )\n",
    "        x = x.where(quant_mask, 0.0)\n",
    "    x = symmetric_cbrt(x, bits, dim)\n",
    "    if outliers_thres > 0:\n",
    "        x = x.where(quant_mask, raw_x)\n",
    "    x = x.to(torch.float16)\n",
    "    return x"
   ]
  },
  {
   "cell_type": "code",
   "execution_count": 29,
   "metadata": {},
   "outputs": [
    {
     "name": "stdout",
     "output_type": "stream",
     "text": [
      "torch.Size([23])\n"
     ]
    },
    {
     "data": {
      "image/png": "[encoded data removed]",
      "text/plain": [
       "<Figure size 1100x500 with 2 Axes>"
      ]
     },
     "metadata": {},
     "output_type": "display_data"
    }
   ],
   "source": [
    "arange = np.arange(-1, 1, 0.01)\n",
    "# data = np.random.normal(loc=0.0, scale=0.5, size=10000)\n",
    "\n",
    "folder = '/home/chengzhang/Multimodal-Quantization/LLaVA/snapshot/activations'\n",
    "act: torch.Tensor = torch.load(f'{folder}/949225/llama/15-up-proj.pt')[0]\n",
    "x = act[0, 4:580, 31].detach().cpu()\n",
    "print(x.shape)\n",
    "\n",
    "bits = 4\n",
    "# bins = 2 ** (bits - 1)\n",
    "# ticks = f(np.arange(-1, 1.01, 1 / bins))\n",
    "# x = torch.tensor(data, dtype=torch.float16)\n",
    "y = quant_activations(x, bits, 0, outliers_thres=2)\n",
    "\n",
    "plt.figure(figsize=(11, 5))\n",
    "\n",
    "ax = plt.subplot(1, 2, 1)\n",
    "ax.plot(arange, f(arange))\n",
    "ax.plot(arange, g(arange))\n",
    "\n",
    "ax = plt.subplot(1, 2, 2)\n",
    "# for pos in ticks:\n",
    "#     ax.plot([pos, pos], [0, np.max(freqs)], color='C1', linewidth=1)\n",
    "freqs, _, _ = plt.hist(x, bins=180)\n",
    "freqs, _, _ = plt.hist(y, bins=180)"
   ]
  },
  {
   "cell_type": "code",
   "execution_count": 2,
   "metadata": {},
   "outputs": [
    {
     "name": "stdout",
     "output_type": "stream",
     "text": [
      "[#0] 0.37477985395694224\n",
      "[#1] 0.26735459400820005\n",
      "[#2] 0.23158518380134652\n",
      "[#3] 0.20704581297374958\n",
      "[#4] 0.1925433660523801\n",
      "[#5] 0.18261390999791516\n",
      "[#6] 0.17448249500305124\n",
      "[#7] 0.16657542545536685\n",
      "[#8] 0.15846573683791476\n",
      "[#9] 0.15046068711334115\n",
      "[#10] 0.14306190455713264\n",
      "[#11] 0.13687721701908018\n",
      "[#12] 0.13182841991838146\n",
      "[#13] 0.12769652315964564\n",
      "[#14] 0.1245239687894788\n",
      "[#15] 0.12250265069903676\n",
      "[#16] 0.12127647140934883\n",
      "[#17] 0.12052342808576455\n",
      "[#18] 0.11969461071291576\n",
      "[#19] 0.11882214198292118\n",
      "[#20] 0.1180031042360703\n",
      "[#21] 0.11705527331580257\n",
      "[#22] 0.11601497393369087\n",
      "[#23] 0.1146876570666997\n",
      "[#24] 0.1129005192467254\n",
      "[#25] 0.11099199181782993\n",
      "[#26] 0.10964010713766825\n",
      "[#27] 0.10846401038449827\n",
      "[#28] 0.10755967553788892\n",
      "[#29] 0.10675556168493827\n",
      "[#30] 0.10586092430171234\n",
      "[#31] 0.10483912611332258\n",
      "[#32] 0.10377672621016032\n",
      "[#33] 0.1026137640416529\n",
      "[#34] 0.1014143568949386\n",
      "[#35] 0.10061186527505939\n",
      "[#36] 0.09986630038440936\n",
      "[#37] 0.09904219763211941\n",
      "[#38] 0.09802972673620403\n",
      "[#39] 0.09688649292582241\n",
      "[#40] 0.09555408421278244\n",
      "[#41] 0.09413942628001237\n",
      "[#42] 0.09292429883263154\n",
      "[#43] 0.09185665310142\n",
      "[#44] 0.09079819735766037\n",
      "[#45] 0.08980594864747005\n",
      "[#46] 0.08902611999483057\n",
      "[#47] 0.08831552142121168\n",
      "[#48] 0.08761221133213226\n",
      "[#49] 0.08693918499861653\n",
      "[#50] 0.0863434260080318\n",
      "[#51] 0.08565724007243958\n",
      "[#52] 0.08503592229087431\n",
      "[#53] 0.08470050715456878\n",
      "[#54] 0.08440964372059412\n",
      "[#55] 0.08418904699007967\n",
      "[#56] 0.08396866427321825\n",
      "[#57] 0.08375473258226762\n",
      "[#58] 0.0836120608609896\n",
      "[#59] 0.08346702969149433\n",
      "[#60] 0.0833666127682342\n",
      "[#61] 0.08325760490649614\n",
      "[#62] 0.08314117815027444\n",
      "[#63] 0.08304010985441224\n",
      "[#64] 0.08295036549904822\n",
      "[#65] 0.08283414819536361\n",
      "[#66] 0.08270066755855865\n",
      "[#67] 0.08258384867619739\n",
      "[#68] 0.08249024053700182\n",
      "[#69] 0.08239245448519128\n",
      "[#70] 0.08220759803564093\n",
      "[#71] 0.08193105177585736\n",
      "[#72] 0.08160687696951996\n",
      "[#73] 0.08133940616696478\n",
      "[#74] 0.08104231589229371\n",
      "[#75] 0.0808068135206419\n",
      "[#76] 0.08056696572768729\n",
      "[#77] 0.0803268279382543\n",
      "[#78] 0.08012474928930047\n",
      "[#79] 0.07993755234403821\n",
      "[#80] 0.0797200576011825\n",
      "[#81] 0.07944748300448978\n",
      "[#82] 0.07920924328729839\n",
      "[#83] 0.07902846002568609\n",
      "[#84] 0.07883007797770247\n",
      "[#85] 0.0786620352737124\n",
      "[#86] 0.07856874895171373\n",
      "[#87] 0.07849143676694226\n",
      "[#88] 0.0784029619626132\n",
      "[#89] 0.07830016694933661\n",
      "[#90] 0.07819425971453953\n",
      "[#91] 0.0781263951401776\n",
      "[#92] 0.07807931492309095\n",
      "[#93] 0.07804757630967529\n",
      "[#94] 0.07802275623950905\n",
      "[#95] 0.07798819026365678\n",
      "[#96] 0.07791635913324413\n",
      "[#97] 0.07782736676378832\n",
      "[#98] 0.077647154296276\n",
      "[#99] 0.07747317624862049\n"
     ]
    }
   ],
   "source": [
    "def linear_k_means(data: np.ndarray, bins: int, iters: int = 100):\n",
    "    min_val = np.min(data)\n",
    "    max_val = np.max(data)\n",
    "    # init_bounds = np.arange(0, 1.01, 1 / bins) * (max_val - min_val) + min_val\n",
    "    # pivots = (np.arange(bins) + 0.5) / bins * (max_val - min_val) + min_val\n",
    "    pivots = np.random.uniform(min_val, max_val, size=bins)\n",
    "    while len(set(np.argmin(np.square(data[:, None] - pivots[None, :]), axis=-1))) < bins:\n",
    "        pivots = np.random.uniform(min_val, max_val, size=bins)\n",
    "    # print(pivots)\n",
    "    for i in range(iters):\n",
    "        quants = np.argmin(np.square(data[:, None] - pivots[None, :]), axis=-1)\n",
    "        print(f'[#{i}] {np.sum(np.square(pivots[quants] - data))}')\n",
    "        tmp_pivots = np.array([data[quants == x].mean() for x in range(bins)])\n",
    "        pivots = np.where(np.isfinite(tmp_pivots), tmp_pivots, pivots)\n",
    "    return pivots\n",
    "\n",
    "np.random.seed(42)\n",
    "# data = np.random.normal(0, 1, size=(65536, ))\n",
    "\n",
    "folder = '/home/chengzhang/Multimodal-Quantization/LLaVA/snapshot/activations'\n",
    "paths = glob.glob(f'{folder}/*/llama/14-down-proj.pt')\n",
    "act = torch.concat([torch.load(path)[0][:, 4:580, 31].detach().flatten() for path in paths])\n",
    "data = act.cpu().numpy()\n",
    "\n",
    "pivots = linear_k_means(data, bins=16)"
   ]
  },
  {
   "cell_type": "code",
   "execution_count": 99,
   "metadata": {},
   "outputs": [
    {
     "data": {
      "image/png": "[encoded data removed]",
      "text/plain": [
       "<Figure size 640x480 with 1 Axes>"
      ]
     },
     "metadata": {},
     "output_type": "display_data"
    }
   ],
   "source": [
    "freqs, _, _ = plt.hist(data, bins=200)\n",
    "for pos in pivots:\n",
    "    plt.plot([pos, pos], [0, np.max(freqs)], color='C1', linewidth=1)\n",
    "# for pos in pivots:\n",
    "#     plt.plot([pos, pos], [0, np.max(freqs)], color='C2', linewidth=1)"
   ]
  },
  {
   "cell_type": "code",
   "execution_count": 102,
   "metadata": {},
   "outputs": [
    {
     "name": "stdout",
     "output_type": "stream",
     "text": [
      "0.0707\n"
     ]
    },
    {
     "data": {
      "image/png": "[encoded data removed]",
      "text/plain": [
       "<Figure size 640x480 with 1 Axes>"
      ]
     },
     "metadata": {},
     "output_type": "display_data"
    }
   ],
   "source": [
    "quanted = quant_activations(torch.tensor(data), 4, 0, outliers_thres=-1).cpu().numpy()\n",
    "freqs, _, _ = plt.hist(data, bins=200)\n",
    "freqs, _, _ = plt.hist(quanted, bins=200)\n",
    "print(np.sum(np.square(data - quanted)))"
   ]
  },
  {
   "cell_type": "code",
   "execution_count": 88,
   "metadata": {},
   "outputs": [
    {
     "name": "stdout",
     "output_type": "stream",
     "text": [
      "0.03824\n"
     ]
    },
    {
     "data": {
      "image/png": "[encoded data removed]",
      "text/plain": [
       "<Figure size 640x480 with 1 Axes>"
      ]
     },
     "metadata": {},
     "output_type": "display_data"
    }
   ],
   "source": [
    "quanted = quant_activations(torch.tensor(data), 4, 0, outliers_thres=-1).cpu().numpy()\n",
    "freqs, _, _ = plt.hist(data, bins=200)\n",
    "freqs, _, _ = plt.hist(quanted, bins=200)\n",
    "print(np.sum(np.square(data - quanted)))"
   ]
  },
  {
   "cell_type": "code",
   "execution_count": null,
   "metadata": {},
   "outputs": [],
   "source": [
    "quanted = quant_activations(torch.tensor(data), 4, 0, outliers_thres=-1).cpu().numpy()\n",
    "freqs, _, _ = plt.hist(data, bins=200)\n",
    "freqs, _, _ = plt.hist(quanted, bins=200)\n",
    "print(np.sum(np.square(data - quanted)))"
   ]
  },
  {
   "cell_type": "code",
   "execution_count": 66,
   "metadata": {},
   "outputs": [
    {
     "data": {
      "image/png": "[encoded data removed]",
      "text/plain": [
       "<Figure size 640x480 with 1 Axes>"
      ]
     },
     "metadata": {},
     "output_type": "display_data"
    }
   ],
   "source": [
    "NF4_DATA = [\n",
    "    -1.0,\n",
    "    -0.6961928009986877,\n",
    "    -0.5250730514526367,\n",
    "    -0.39491748809814453,\n",
    "    -0.28444138169288635,\n",
    "    -0.18477343022823334,\n",
    "    -0.09105003625154495,\n",
    "    0.0,\n",
    "    0.07958029955625534,\n",
    "    0.16093020141124725,\n",
    "    0.24611230194568634,\n",
    "    0.33791524171829224,\n",
    "    0.44070982933044434,\n",
    "    0.5626170039176941,\n",
    "    0.7229568362236023,\n",
    "    1.0,\n",
    "]\n",
    "freqs, _, _ = plt.hist(data, bins=200)\n",
    "for pos in pivots:\n",
    "    plt.plot([pos, pos], [0, np.max(freqs)], color='C1', linewidth=1)\n",
    "for pos in np.array(NF4_DATA) * 3:\n",
    "    plt.plot([pos, pos], [0, np.max(freqs)], color='C2', linewidth=1)"
   ]
  },
  {
   "cell_type": "code",
   "execution_count": 6,
   "metadata": {},
   "outputs": [
    {
     "data": {
      "image/png": "[encoded data removed]",
      "text/plain": [
       "<Figure size 640x480 with 1 Axes>"
      ]
     },
     "metadata": {},
     "output_type": "display_data"
    }
   ],
   "source": [
    "bins = 16\n",
    "min_val = np.min(data)\n",
    "max_val = np.max(data)\n",
    "# init_bounds = np.arange(0, 1.01, 1 / bins) * (max_val - min_val) + min_val\n",
    "# pivots = (np.arange(bins) + 0.5) / bins * (max_val - min_val) + min_val\n",
    "freqs, _, _ = plt.hist(data, bins=200)\n",
    "# for pos in pivots:\n",
    "#     plt.plot([pos, pos], [0, np.max(freqs)], color='C1', linewidth=1)\n",
    "\n",
    "new_pivots = [\n",
    "    # -0.0740, -0.0560, -0.0446, -0.0367, -0.0288, -0.0210, -0.0137, -0.0072,\n",
    "    # -0.0015,  0.0047,  0.0133,  0.0238,  0.0347,  0.0437,  0.0516,  0.0602,  0.0747,\n",
    "    -0.0779, -0.0627, -0.0507, -0.0398, -0.0300, -0.0208, -0.0122, -0.0046,\n",
    "    0.0020,  0.0090,  0.0177,  0.0272,  0.0366,  0.0450,  0.0532,  0.0631,  0.0750\n",
    "]\n",
    "for pos in new_pivots:\n",
    "    plt.plot([pos, pos], [0, np.max(freqs)], color='C1', linewidth=1)"
   ]
  },
  {
   "cell_type": "code",
   "execution_count": null,
   "metadata": {},
   "outputs": [],
   "source": []
  }
 ],
 "metadata": {
  "kernelspec": {
   "display_name": "minigpt4",
   "language": "python",
   "name": "python3"
  },
  "language_info": {
   "codemirror_mode": {
    "name": "ipython",
    "version": 3
   },
   "file_extension": ".py",
   "mimetype": "text/x-python",
   "name": "python",
   "nbconvert_exporter": "python",
   "pygments_lexer": "ipython3",
   "version": "3.9.17"
  }
 },
 "nbformat": 4,
 "nbformat_minor": 2
}
